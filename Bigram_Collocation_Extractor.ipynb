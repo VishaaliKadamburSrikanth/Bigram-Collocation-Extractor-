{
  "nbformat": 4,
  "nbformat_minor": 0,
  "metadata": {
    "colab": {
      "name": "Bigram-Collocation-Extractor.ipynb",
      "version": "0.3.2",
      "provenance": [],
      "collapsed_sections": []
    },
    "kernelspec": {
      "name": "python3",
      "display_name": "Python 3"
    },
    "accelerator": "GPU"
  },
  "cells": [
    {
      "cell_type": "markdown",
      "metadata": {
        "id": "Ao-szl7OQvXx",
        "colab_type": "text"
      },
      "source": [
        "### Import statements "
      ]
    },
    {
      "cell_type": "code",
      "metadata": {
        "id": "AFP-8M3D1j7W",
        "colab_type": "code",
        "outputId": "5ef934b7-ca58-4929-b57d-ced5bac25710",
        "colab": {
          "base_uri": "https://localhost:8080/",
          "height": 153
        }
      },
      "source": [
        "import nltk\n",
        "from sklearn.datasets import fetch_20newsgroups\n",
        "from sklearn.feature_extraction.text import CountVectorizer\n",
        "from nltk.tokenize import sent_tokenize\n",
        "from nltk.tokenize import word_tokenize\n",
        "from nltk.corpus import stopwords\n",
        "from nltk.stem.porter import PorterStemmer\n",
        "from sklearn.feature_extraction.text import CountVectorizer, TfidfTransformer\n",
        "from sklearn.model_selection import train_test_split, GridSearchCV\n",
        "from sklearn.metrics import confusion_matrix, classification_report\n",
        "from sklearn.svm import SVC\n",
        "from sklearn.naive_bayes import MultinomialNB\n",
        "from sklearn.linear_model import SGDClassifier\n",
        "nltk.download('stopwords')\n",
        "nltk.download('punkt')\n",
        "nltk.download('averaged_perceptron_tagger')\n",
        "from nltk.collocations import *\n",
        "import pandas as pd\n",
        "import numpy as np\n",
        "import re\n",
        "import datetime\n",
        "import seaborn as sns\n",
        "import matplotlib\n",
        "import matplotlib.pyplot as plt\n",
        "%matplotlib inline"
      ],
      "execution_count": 0,
      "outputs": [
        {
          "output_type": "stream",
          "text": [
            "[nltk_data] Downloading package stopwords to /root/nltk_data...\n",
            "[nltk_data]   Package stopwords is already up-to-date!\n",
            "[nltk_data] Downloading package punkt to /root/nltk_data...\n",
            "[nltk_data]   Package punkt is already up-to-date!\n",
            "[nltk_data] Downloading package averaged_perceptron_tagger to\n",
            "[nltk_data]     /root/nltk_data...\n",
            "[nltk_data]   Package averaged_perceptron_tagger is already up-to-\n",
            "[nltk_data]       date!\n"
          ],
          "name": "stdout"
        }
      ]
    },
    {
      "cell_type": "markdown",
      "metadata": {
        "id": "kALfAoPZQ3n1",
        "colab_type": "text"
      },
      "source": [
        "### Loading dataset"
      ]
    },
    {
      "cell_type": "code",
      "metadata": {
        "id": "rOGdpJzk7Tc2",
        "colab_type": "code",
        "outputId": "a6fb37fa-b009-4623-9a98-33fa59d52775",
        "colab": {
          "base_uri": "https://localhost:8080/",
          "height": 34
        }
      },
      "source": [
        "category_values = ['alt.atheism', 'talk.religion.misc',\n",
        "                'comp.graphics', 'sci.space']\n",
        "news_dataset = fetch_20newsgroups(subset='all', categories=category_values, remove=[\"headers\", \"footers\", \"quotes\"], random_state=42, shuffle=True)\n",
        "\n",
        "# Printing target names\n",
        "news_dataset.target_names"
      ],
      "execution_count": 0,
      "outputs": [
        {
          "output_type": "execute_result",
          "data": {
            "text/plain": [
              "['alt.atheism', 'comp.graphics', 'sci.space', 'talk.religion.misc']"
            ]
          },
          "metadata": {
            "tags": []
          },
          "execution_count": 50
        }
      ]
    },
    {
      "cell_type": "code",
      "metadata": {
        "id": "_I4iA8o0RE5B",
        "colab_type": "code",
        "outputId": "4370e66b-e813-4a49-9c0b-2d5128e039d8",
        "colab": {
          "base_uri": "https://localhost:8080/",
          "height": 74
        }
      },
      "source": [
        "# Printing a sample from the dataset \n",
        "news_dataset.data[0]"
      ],
      "execution_count": 0,
      "outputs": [
        {
          "output_type": "execute_result",
          "data": {
            "text/plain": [
              "\"My point is that you set up your views as the only way to believe.  Saying \\nthat all eveil in this world is caused by atheism is ridiculous and \\ncounterproductive to dialogue in this newsgroups.  I see in your posts a \\nspirit of condemnation of the atheists in this newsgroup bacause they don'\\nt believe exactly as you do.  If you're here to try to convert the atheists \\nhere, you're failing miserably.  Who wants to be in position of constantly \\ndefending themselves agaist insulting attacks, like you seem to like to do?!\\nI'm sorry you're so blind that you didn't get the messgae in the quote, \\neveryone else has seemed to.\""
            ]
          },
          "metadata": {
            "tags": []
          },
          "execution_count": 51
        }
      ]
    },
    {
      "cell_type": "markdown",
      "metadata": {
        "id": "TZ0hsjrjmyxs",
        "colab_type": "text"
      },
      "source": [
        "## 1)a) Tokenization\n"
      ]
    },
    {
      "cell_type": "markdown",
      "metadata": {
        "id": "oTSqdpgRjqmX",
        "colab_type": "text"
      },
      "source": [
        "### Tokens with POS tagging and retaining the paragraph-level structure"
      ]
    },
    {
      "cell_type": "code",
      "metadata": {
        "id": "69uHGf-M5tlZ",
        "colab_type": "code",
        "colab": {}
      },
      "source": [
        "tokenized_data = [word_tokenize(each_record) for each_record in news_dataset.data]\n",
        "tokens_with_pos = [nltk.pos_tag(tokens) for tokens in tokenized_data]"
      ],
      "execution_count": 0,
      "outputs": []
    },
    {
      "cell_type": "markdown",
      "metadata": {
        "id": "1m8aGtWrRInr",
        "colab_type": "text"
      },
      "source": [
        "## Bigram collocations\n"
      ]
    },
    {
      "cell_type": "markdown",
      "metadata": {
        "id": "kHbTPVz0i4KH",
        "colab_type": "text"
      },
      "source": [
        "### Tokenizing the whole corpus to find bigrams across the corpus"
      ]
    },
    {
      "cell_type": "code",
      "metadata": {
        "id": "mMljkUKJRPLL",
        "colab_type": "code",
        "outputId": "a97c47d2-7959-4108-83ed-7dbd37050a42",
        "colab": {
          "base_uri": "https://localhost:8080/",
          "height": 1000
        }
      },
      "source": [
        "# Using the already tokenized words along with their POS tags and making them 1D to feed it into bigram collocations\n",
        "tokens_with_pos_tags = [each_tuple for each_record in tokens_with_pos for each_tuple in each_record]\n",
        "tokens_with_pos_tags"
      ],
      "execution_count": 0,
      "outputs": [
        {
          "output_type": "execute_result",
          "data": {
            "text/plain": [
              "[('My', 'PRP$'),\n",
              " ('point', 'NN'),\n",
              " ('is', 'VBZ'),\n",
              " ('that', 'IN'),\n",
              " ('you', 'PRP'),\n",
              " ('set', 'VBP'),\n",
              " ('up', 'RP'),\n",
              " ('your', 'PRP$'),\n",
              " ('views', 'NNS'),\n",
              " ('as', 'IN'),\n",
              " ('the', 'DT'),\n",
              " ('only', 'JJ'),\n",
              " ('way', 'NN'),\n",
              " ('to', 'TO'),\n",
              " ('believe', 'VB'),\n",
              " ('.', '.'),\n",
              " ('Saying', 'VBG'),\n",
              " ('that', 'IN'),\n",
              " ('all', 'DT'),\n",
              " ('eveil', 'NN'),\n",
              " ('in', 'IN'),\n",
              " ('this', 'DT'),\n",
              " ('world', 'NN'),\n",
              " ('is', 'VBZ'),\n",
              " ('caused', 'VBN'),\n",
              " ('by', 'IN'),\n",
              " ('atheism', 'NN'),\n",
              " ('is', 'VBZ'),\n",
              " ('ridiculous', 'JJ'),\n",
              " ('and', 'CC'),\n",
              " ('counterproductive', 'JJ'),\n",
              " ('to', 'TO'),\n",
              " ('dialogue', 'VB'),\n",
              " ('in', 'IN'),\n",
              " ('this', 'DT'),\n",
              " ('newsgroups', 'NN'),\n",
              " ('.', '.'),\n",
              " ('I', 'PRP'),\n",
              " ('see', 'VBP'),\n",
              " ('in', 'IN'),\n",
              " ('your', 'PRP$'),\n",
              " ('posts', 'NNS'),\n",
              " ('a', 'DT'),\n",
              " ('spirit', 'NN'),\n",
              " ('of', 'IN'),\n",
              " ('condemnation', 'NN'),\n",
              " ('of', 'IN'),\n",
              " ('the', 'DT'),\n",
              " ('atheists', 'NNS'),\n",
              " ('in', 'IN'),\n",
              " ('this', 'DT'),\n",
              " ('newsgroup', 'NN'),\n",
              " ('bacause', 'IN'),\n",
              " ('they', 'PRP'),\n",
              " (\"don'\", 'VBP'),\n",
              " ('t', 'JJ'),\n",
              " ('believe', 'VBP'),\n",
              " ('exactly', 'RB'),\n",
              " ('as', 'IN'),\n",
              " ('you', 'PRP'),\n",
              " ('do', 'VBP'),\n",
              " ('.', '.'),\n",
              " ('If', 'IN'),\n",
              " ('you', 'PRP'),\n",
              " (\"'re\", 'VBP'),\n",
              " ('here', 'RB'),\n",
              " ('to', 'TO'),\n",
              " ('try', 'VB'),\n",
              " ('to', 'TO'),\n",
              " ('convert', 'VB'),\n",
              " ('the', 'DT'),\n",
              " ('atheists', 'NNS'),\n",
              " ('here', 'RB'),\n",
              " (',', ','),\n",
              " ('you', 'PRP'),\n",
              " (\"'re\", 'VBP'),\n",
              " ('failing', 'VBG'),\n",
              " ('miserably', 'RB'),\n",
              " ('.', '.'),\n",
              " ('Who', 'WP'),\n",
              " ('wants', 'VBZ'),\n",
              " ('to', 'TO'),\n",
              " ('be', 'VB'),\n",
              " ('in', 'IN'),\n",
              " ('position', 'NN'),\n",
              " ('of', 'IN'),\n",
              " ('constantly', 'RB'),\n",
              " ('defending', 'VBG'),\n",
              " ('themselves', 'PRP'),\n",
              " ('agaist', 'JJ'),\n",
              " ('insulting', 'VBG'),\n",
              " ('attacks', 'NNS'),\n",
              " (',', ','),\n",
              " ('like', 'IN'),\n",
              " ('you', 'PRP'),\n",
              " ('seem', 'VBP'),\n",
              " ('to', 'TO'),\n",
              " ('like', 'VB'),\n",
              " ('to', 'TO'),\n",
              " ('do', 'VB'),\n",
              " ('?', '.'),\n",
              " ('!', '.'),\n",
              " ('I', 'PRP'),\n",
              " (\"'m\", 'VBP'),\n",
              " ('sorry', 'JJ'),\n",
              " ('you', 'PRP'),\n",
              " (\"'re\", 'VBP'),\n",
              " ('so', 'RB'),\n",
              " ('blind', 'IN'),\n",
              " ('that', 'IN'),\n",
              " ('you', 'PRP'),\n",
              " ('did', 'VBD'),\n",
              " (\"n't\", 'RB'),\n",
              " ('get', 'VB'),\n",
              " ('the', 'DT'),\n",
              " ('messgae', 'NN'),\n",
              " ('in', 'IN'),\n",
              " ('the', 'DT'),\n",
              " ('quote', 'NN'),\n",
              " (',', ','),\n",
              " ('everyone', 'NN'),\n",
              " ('else', 'RB'),\n",
              " ('has', 'VBZ'),\n",
              " ('seemed', 'VBN'),\n",
              " ('to', 'TO'),\n",
              " ('.', '.'),\n",
              " ('By', 'IN'),\n",
              " (\"'8\", 'NNP'),\n",
              " ('grey', 'FW'),\n",
              " ('level', 'NN'),\n",
              " ('images', 'NNS'),\n",
              " (\"'\", 'POS'),\n",
              " ('you', 'PRP'),\n",
              " ('mean', 'VBP'),\n",
              " ('8', 'CD'),\n",
              " ('items', 'NNS'),\n",
              " ('of', 'IN'),\n",
              " ('1bit', 'CD'),\n",
              " ('images', 'NNS'),\n",
              " ('?', '.'),\n",
              " ('It', 'PRP'),\n",
              " ('does', 'VBZ'),\n",
              " ('work', 'NN'),\n",
              " ('(', '('),\n",
              " ('!', '.'),\n",
              " (')', ')'),\n",
              " (',', ','),\n",
              " ('but', 'CC'),\n",
              " ('it', 'PRP'),\n",
              " ('does', 'VBZ'),\n",
              " (\"n't\", 'RB'),\n",
              " ('work', 'VB'),\n",
              " ('if', 'IN'),\n",
              " ('you', 'PRP'),\n",
              " ('have', 'VBP'),\n",
              " ('more', 'JJR'),\n",
              " ('than', 'IN'),\n",
              " ('1bit', 'CD'),\n",
              " ('in', 'IN'),\n",
              " ('your', 'PRP$'),\n",
              " ('screen', 'NN'),\n",
              " ('and', 'CC'),\n",
              " ('if', 'IN'),\n",
              " ('the', 'DT'),\n",
              " ('screen', 'NN'),\n",
              " ('intensity', 'NN'),\n",
              " ('is', 'VBZ'),\n",
              " ('non-linear', 'JJ'),\n",
              " ('.', '.'),\n",
              " ('With', 'IN'),\n",
              " ('2', 'CD'),\n",
              " ('bit', 'NN'),\n",
              " ('per', 'IN'),\n",
              " ('pixel', 'NN'),\n",
              " (';', ':'),\n",
              " ('there', 'EX'),\n",
              " ('could', 'MD'),\n",
              " ('be', 'VB'),\n",
              " ('1*c_1', 'CD'),\n",
              " ('+', 'JJ'),\n",
              " ('4*c_2', 'CD'),\n",
              " ('timing', 'NN'),\n",
              " (',', ','),\n",
              " ('this', 'DT'),\n",
              " ('gives', 'VBZ'),\n",
              " ('16', 'CD'),\n",
              " ('levels', 'NNS'),\n",
              " (',', ','),\n",
              " ('but', 'CC'),\n",
              " ('they', 'PRP'),\n",
              " ('are', 'VBP'),\n",
              " ('linear', 'JJ'),\n",
              " ('if', 'IN'),\n",
              " ('screen', 'JJ'),\n",
              " ('intensity', 'NN'),\n",
              " ('is', 'VBZ'),\n",
              " ('linear', 'JJ'),\n",
              " ('.', '.'),\n",
              " ('With', 'IN'),\n",
              " ('1*c_1', 'CD'),\n",
              " ('+', 'NNS'),\n",
              " ('2*c_2', 'CD'),\n",
              " ('it', 'PRP'),\n",
              " ('works', 'VBZ'),\n",
              " (',', ','),\n",
              " ('but', 'CC'),\n",
              " ('we', 'PRP'),\n",
              " ('have', 'VBP'),\n",
              " ('to', 'TO'),\n",
              " ('find', 'VB'),\n",
              " ('the', 'DT'),\n",
              " ('best', 'JJS'),\n",
              " ('compinations', 'NNS'),\n",
              " ('--', ':'),\n",
              " ('there', 'EX'),\n",
              " (\"'s\", 'VBZ'),\n",
              " ('10', 'CD'),\n",
              " ('levels', 'NNS'),\n",
              " (',', ','),\n",
              " ('but', 'CC'),\n",
              " ('16', 'CD'),\n",
              " ('choises', 'NNS'),\n",
              " (';', ':'),\n",
              " ('best', 'JJS'),\n",
              " ('10', 'CD'),\n",
              " ('must', 'MD'),\n",
              " ('be', 'VB'),\n",
              " ('chosen', 'VBN'),\n",
              " ('.', '.'),\n",
              " ('Different', 'JJ'),\n",
              " ('compinations', 'NNS'),\n",
              " ('for', 'IN'),\n",
              " ('the', 'DT'),\n",
              " ('same', 'JJ'),\n",
              " ('level', 'NN'),\n",
              " (',', ','),\n",
              " ('varies', 'VBZ'),\n",
              " ('a', 'DT'),\n",
              " ('bit', 'NN'),\n",
              " (',', ','),\n",
              " ('but', 'CC'),\n",
              " ('the', 'DT'),\n",
              " ('levels', 'NNS'),\n",
              " ('keeps', 'VBP'),\n",
              " ('their', 'PRP$'),\n",
              " ('order', 'NN'),\n",
              " ('.', '.'),\n",
              " ('Readers', 'NNS'),\n",
              " ('should', 'MD'),\n",
              " ('verify', 'VB'),\n",
              " ('what', 'WP'),\n",
              " ('I', 'PRP'),\n",
              " ('wrote', 'VBD'),\n",
              " ('...', ':'),\n",
              " (':', ':'),\n",
              " ('-', ':'),\n",
              " (')', ')'),\n",
              " ('FIRST', 'NNP'),\n",
              " ('ANNUAL', 'NNP'),\n",
              " ('PHIGS', 'NNP'),\n",
              " ('USER', 'NNP'),\n",
              " ('GROUP', 'NNP'),\n",
              " ('CONFERENCE', 'NNP'),\n",
              " ('The', 'DT'),\n",
              " ('First', 'NNP'),\n",
              " ('Annual', 'NNP'),\n",
              " ('PHIGS', 'NNP'),\n",
              " ('User', 'NNP'),\n",
              " ('Group', 'NNP'),\n",
              " ('Conference', 'NNP'),\n",
              " ('was', 'VBD'),\n",
              " ('held', 'VBN'),\n",
              " ('March', 'NNP'),\n",
              " ('21-24', 'JJ'),\n",
              " ('in', 'IN'),\n",
              " ('Orlando', 'NNP'),\n",
              " (',', ','),\n",
              " ('Florida', 'NNP'),\n",
              " ('.', '.'),\n",
              " ('The', 'DT'),\n",
              " ('conference', 'NN'),\n",
              " ('was', 'VBD'),\n",
              " ('organized', 'VBN'),\n",
              " ('by', 'IN'),\n",
              " ('the', 'DT'),\n",
              " ('Rensse-', 'NNP'),\n",
              " ('laer', 'NN'),\n",
              " ('Design', 'NNP'),\n",
              " ('Research', 'NNP'),\n",
              " ('Center', 'NNP'),\n",
              " ('in', 'IN'),\n",
              " ('co-operation', 'NN'),\n",
              " ('with', 'IN'),\n",
              " ('IEEE', 'NNP'),\n",
              " ('and', 'CC'),\n",
              " ('SIG-', 'NNP'),\n",
              " ('GRAPH', 'NNP'),\n",
              " ('.', '.'),\n",
              " ('Attendees', 'NNS'),\n",
              " ('came', 'VBD'),\n",
              " ('from', 'IN'),\n",
              " ('five', 'CD'),\n",
              " ('countries', 'NNS'),\n",
              " ('spanning', 'VBG'),\n",
              " ('three', 'CD'),\n",
              " ('con-', 'JJ'),\n",
              " ('tinents', 'NNS'),\n",
              " ('.', '.'),\n",
              " ('A', 'DT'),\n",
              " ('good', 'JJ'),\n",
              " ('cross-section', 'NN'),\n",
              " ('of', 'IN'),\n",
              " ('the', 'DT'),\n",
              " ('PHIGS', 'NNP'),\n",
              " ('community', 'NN'),\n",
              " ('was', 'VBD'),\n",
              " ('represented', 'VBN'),\n",
              " ('at', 'IN'),\n",
              " ('this', 'DT'),\n",
              " ('conference', 'NN'),\n",
              " ('with', 'IN'),\n",
              " ('participants', 'NNS'),\n",
              " ('including', 'VBG'),\n",
              " ('PHIGS', 'NNP'),\n",
              " ('users', 'NNS'),\n",
              " (',', ','),\n",
              " ('workstation', 'NN'),\n",
              " ('vendors', 'NNS'),\n",
              " (',', ','),\n",
              " ('third-party', 'JJ'),\n",
              " ('PHIGS', 'NNP'),\n",
              " ('implementors', 'NNS'),\n",
              " (',', ','),\n",
              " ('stan-', 'JJ'),\n",
              " ('dards', 'NNS'),\n",
              " ('committee', 'NN'),\n",
              " ('members', 'NNS'),\n",
              " (',', ','),\n",
              " ('and', 'CC'),\n",
              " ('researchers', 'NNS'),\n",
              " ('from', 'IN'),\n",
              " ('industry', 'NN'),\n",
              " ('and', 'CC'),\n",
              " ('academia', 'NN'),\n",
              " ('.', '.'),\n",
              " ('The', 'DT'),\n",
              " ('opening', 'NN'),\n",
              " ('speaker', 'NN'),\n",
              " (',', ','),\n",
              " ('Dr.', 'NNP'),\n",
              " ('Richard', 'NNP'),\n",
              " ('Puk', 'NNP'),\n",
              " (',', ','),\n",
              " ('challenged', 'VBD'),\n",
              " ('PHIGS', 'NNP'),\n",
              " ('users', 'NNS'),\n",
              " ('to', 'TO'),\n",
              " ('``', '``'),\n",
              " ('take', 'VB'),\n",
              " ('charge', 'NN'),\n",
              " ('of', 'IN'),\n",
              " ('your', 'PRP$'),\n",
              " ('PHIGS', 'NNP'),\n",
              " (\"''\", \"''\"),\n",
              " ('by', 'IN'),\n",
              " ('participating', 'VBG'),\n",
              " ('in', 'IN'),\n",
              " ('PHIGS', 'NNP'),\n",
              " ('standardization', 'NN'),\n",
              " ('activities', 'NNS'),\n",
              " ('and', 'CC'),\n",
              " ('communicating', 'VBG'),\n",
              " ('their', 'PRP$'),\n",
              " ('needs', 'NNS'),\n",
              " ('to', 'TO'),\n",
              " ('PHIGS', 'NNP'),\n",
              " ('implementors', 'NNS'),\n",
              " ('.', '.'),\n",
              " ('The', 'DT'),\n",
              " ('closing', 'NN'),\n",
              " ('speaker', 'NN'),\n",
              " (',', ','),\n",
              " ('Dr.', 'NNP'),\n",
              " ('Andries', 'NNP'),\n",
              " ('Van', 'NNP'),\n",
              " ('Dam', 'NNP'),\n",
              " (',', ','),\n",
              " ('described', 'VBD'),\n",
              " ('his', 'PRP$'),\n",
              " ('vision', 'NN'),\n",
              " ('of', 'IN'),\n",
              " ('the', 'DT'),\n",
              " ('future', 'NN'),\n",
              " ('of', 'IN'),\n",
              " ('graphics', 'NNS'),\n",
              " ('standards', 'NNS'),\n",
              " ('``', '``'),\n",
              " ('beyond', 'IN'),\n",
              " ('PHIGS', 'NNP'),\n",
              " (\"''\", \"''\"),\n",
              " ('.', '.'),\n",
              " ('Technical', 'JJ'),\n",
              " ('paper', 'NN'),\n",
              " ('sessions', 'NNS'),\n",
              " ('in', 'IN'),\n",
              " ('the', 'DT'),\n",
              " ('conference', 'NN'),\n",
              " ('covered', 'VBD'),\n",
              " ('the', 'DT'),\n",
              " ('following', 'JJ'),\n",
              " ('topics', 'NNS'),\n",
              " (':', ':'),\n",
              " ('PHIGS', 'NNP'),\n",
              " ('and', 'CC'),\n",
              " ('X', 'NNP'),\n",
              " (',', ','),\n",
              " ('Application', 'NNP'),\n",
              " ('Toolkits', 'NNP'),\n",
              " (',', ','),\n",
              " ('Application', 'NNP'),\n",
              " ('Issues', 'NNP'),\n",
              " (',', ','),\n",
              " ('Texture', 'NNP'),\n",
              " ('Mapping', 'NNP'),\n",
              " (',', ','),\n",
              " ('NURBS', 'NNP'),\n",
              " (',', ','),\n",
              " ('PHIGS', 'NNP'),\n",
              " ('Extensions', 'NNP'),\n",
              " (',', ','),\n",
              " ('and', 'CC'),\n",
              " ('Object-Oriented', 'JJ'),\n",
              " ('Libraries', 'NNS'),\n",
              " ('and', 'CC'),\n",
              " ('Frameworks', 'NNP'),\n",
              " ('.', '.'),\n",
              " ('Panel', 'NNP'),\n",
              " ('sessions', 'NNS'),\n",
              " ('on', 'IN'),\n",
              " ('PHIGS', 'NNP'),\n",
              " ('and', 'CC'),\n",
              " ('PEX', 'NNP'),\n",
              " (',', ','),\n",
              " ('PHIGS', 'NNP'),\n",
              " ('Non-Retained', 'NNP'),\n",
              " ('Data', 'NNP'),\n",
              " (',', ','),\n",
              " ('Real-World', 'NNP'),\n",
              " ('CAD', 'NNP'),\n",
              " ('Applications', 'NNP'),\n",
              " ('Using', 'NNP'),\n",
              " ('PHIGS', 'NNP'),\n",
              " (',', ','),\n",
              " ('and', 'CC'),\n",
              " ('Portability', 'NNP'),\n",
              " ('Issues', 'NNP'),\n",
              " ('generated', 'VBD'),\n",
              " ('enthusiastic', 'JJ'),\n",
              " ('discussions', 'NNS'),\n",
              " ('and', 'CC'),\n",
              " ('formed', 'VBD'),\n",
              " ('a', 'DT'),\n",
              " ('good', 'JJ'),\n",
              " ('forum', 'NN'),\n",
              " ('for', 'IN'),\n",
              " ('exchange', 'NN'),\n",
              " ('of', 'IN'),\n",
              " ('ideas', 'NNS'),\n",
              " (',', ','),\n",
              " ('needs', 'NNS'),\n",
              " (',', ','),\n",
              " ('and', 'CC'),\n",
              " ('experiences', 'NNS'),\n",
              " ('.', '.'),\n",
              " ('The', 'DT'),\n",
              " ('conference', 'NN'),\n",
              " ('also', 'RB'),\n",
              " ('included', 'VBD'),\n",
              " ('a', 'DT'),\n",
              " ('day', 'NN'),\n",
              " ('full', 'JJ'),\n",
              " ('of', 'IN'),\n",
              " ('tutorials', 'NNS'),\n",
              " ('on', 'IN'),\n",
              " ('topics', 'NNS'),\n",
              " ('rang-', 'JJ'),\n",
              " ('ing', 'VBG'),\n",
              " ('from', 'IN'),\n",
              " ('mathematics', 'NNS'),\n",
              " ('for', 'IN'),\n",
              " ('3D', 'CD'),\n",
              " ('graphics', 'NNS'),\n",
              " ('to', 'TO'),\n",
              " ('object-oriented', 'JJ'),\n",
              " ('tools', 'NNS'),\n",
              " ('based', 'VBN'),\n",
              " ('on', 'IN'),\n",
              " ('PHIGS', 'NNP'),\n",
              " ('.', '.'),\n",
              " ('Next', 'JJ'),\n",
              " ('year', 'NN'),\n",
              " (\"'s\", 'POS'),\n",
              " ('conference', 'NN'),\n",
              " ('is', 'VBZ'),\n",
              " ('planned', 'VBN'),\n",
              " ('for', 'IN'),\n",
              " ('March', 'NNP'),\n",
              " (',', ','),\n",
              " ('1994', 'CD'),\n",
              " ('.', '.'),\n",
              " ('PHIGS', 'VB'),\n",
              " ('EVERYWHERE', 'NNP'),\n",
              " ('At', 'IN'),\n",
              " ('the', 'DT'),\n",
              " ('conference', 'NN'),\n",
              " (',', ','),\n",
              " ('PHIGS', 'NNP'),\n",
              " ('vendors', 'NNS'),\n",
              " ('described', 'VBD'),\n",
              " ('and', 'CC'),\n",
              " ('demonstrated', 'VBD'),\n",
              " ('PHIGS', 'NNP'),\n",
              " ('products', 'NNS'),\n",
              " ('that', 'WDT'),\n",
              " ('run', 'VBP'),\n",
              " ('on', 'IN'),\n",
              " ('all', 'DT'),\n",
              " ('types', 'NNS'),\n",
              " ('of', 'IN'),\n",
              " ('computers', 'NNS'),\n",
              " (',', ','),\n",
              " ('from', 'IN'),\n",
              " ('PCs', 'NNS'),\n",
              " ('to', 'TO'),\n",
              " ('mainframes', 'NNS'),\n",
              " ('.', '.'),\n",
              " ('Megatek', 'NNP'),\n",
              " ('Corporation', 'NNP'),\n",
              " ('demonstrated', 'VBD'),\n",
              " ('their', 'PRP$'),\n",
              " ('PHIGS', 'JJ'),\n",
              " ('extensions', 'NNS'),\n",
              " ('including', 'VBG'),\n",
              " ('conditional', 'JJ'),\n",
              " ('traversal', 'NN'),\n",
              " (',', ','),\n",
              " ('composite', 'JJ'),\n",
              " ('logical', 'JJ'),\n",
              " ('input', 'NN'),\n",
              " ('devices', 'NNS'),\n",
              " (',', ','),\n",
              " ('texturing', 'VBG'),\n",
              " ('and', 'CC'),\n",
              " ('translucency', 'NN'),\n",
              " ('.', '.'),\n",
              " ('Template', 'NNP'),\n",
              " ('Graphics', 'NNPS'),\n",
              " ('Software', 'NNP'),\n",
              " ('launched', 'VBD'),\n",
              " ('FIGARO+', 'NNP'),\n",
              " ('PRO', 'NNP'),\n",
              " (',', ','),\n",
              " ('the', 'DT'),\n",
              " ('Photo-', 'NNP'),\n",
              " ('Realistic', 'NNP'),\n",
              " ('Option', 'NNP'),\n",
              " ('for', 'IN'),\n",
              " ('PHIGS+', 'NNP'),\n",
              " ('.', '.'),\n",
              " ('FIGARO+', 'NNP'),\n",
              " ('PRO', 'NNP'),\n",
              " ('is', 'VBZ'),\n",
              " ('designed', 'VBN'),\n",
              " ('to', 'TO'),\n",
              " ('add', 'VB'),\n",
              " ('advanced', 'JJ'),\n",
              " ('rendering', 'VBG'),\n",
              " ('to', 'TO'),\n",
              " ('the', 'DT'),\n",
              " ('existing', 'VBG'),\n",
              " ('PHIGS+', 'NNP'),\n",
              " ('API', 'NNP'),\n",
              " (',', ','),\n",
              " ('with', 'IN'),\n",
              " ('features', 'NNS'),\n",
              " ('like', 'IN'),\n",
              " ('ray', 'NN'),\n",
              " ('tracing', 'NN'),\n",
              " (',', ','),\n",
              " ('materials', 'NNS'),\n",
              " (',', ','),\n",
              " ('anti-aliasing', 'JJ'),\n",
              " ('and', 'CC'),\n",
              " ('texture', 'NN'),\n",
              " ('mapping', 'NN'),\n",
              " ('.', '.'),\n",
              " ('Radiosity', 'NNP'),\n",
              " ('support', 'NN'),\n",
              " ('is', 'VBZ'),\n",
              " ('also', 'RB'),\n",
              " ('planned', 'VBN'),\n",
              " ('.', '.'),\n",
              " ('FIGARO+', 'NNP'),\n",
              " ('is', 'VBZ'),\n",
              " ('an', 'DT'),\n",
              " ('example', 'NN'),\n",
              " ('of', 'IN'),\n",
              " ('how', 'WRB'),\n",
              " ('TGS', 'NNP'),\n",
              " ('continues', 'VBZ'),\n",
              " ('to', 'TO'),\n",
              " ('add', 'VB'),\n",
              " ('newly', 'RB'),\n",
              " ('emerging', 'VBG'),\n",
              " ('graphics', 'NNS'),\n",
              " ('features', 'NNS'),\n",
              " ('to', 'TO'),\n",
              " ('their', 'PRP$'),\n",
              " ('products', 'NNS'),\n",
              " ('.', '.'),\n",
              " ('FIGARO+', 'NNP'),\n",
              " ('supports', 'VBZ'),\n",
              " ('immediate', 'JJ'),\n",
              " ('mode', 'NN'),\n",
              " ('extensions', 'NNS'),\n",
              " ('to', 'TO'),\n",
              " ('PHIGS', 'NNP'),\n",
              " ('and', 'CC'),\n",
              " ('also', 'RB'),\n",
              " ('supports', 'VBZ'),\n",
              " ('SUN', 'NNP'),\n",
              " ('XGL', 'NNP'),\n",
              " (',', ','),\n",
              " ('HP', 'NNP'),\n",
              " ('Starbase', 'NNP'),\n",
              " ('and', 'CC'),\n",
              " ('SGI', 'NNP'),\n",
              " ('GL/OpenGL', 'NNP'),\n",
              " ('.', '.'),\n",
              " ('FIGARO+', 'NNP'),\n",
              " ('for', 'IN'),\n",
              " ('NT', 'NNP'),\n",
              " ('will', 'MD'),\n",
              " ('be', 'VB'),\n",
              " ('released', 'VBN'),\n",
              " ('this', 'DT'),\n",
              " ('summer', 'NN'),\n",
              " ('.', '.'),\n",
              " ('TGS', 'NNP'),\n",
              " ('also', 'RB'),\n",
              " ('demonstrated', 'VBD'),\n",
              " ('the', 'DT'),\n",
              " ('latest', 'JJS'),\n",
              " ('versions', 'NNS'),\n",
              " ('of', 'IN'),\n",
              " ('FIGraph', 'NNP'),\n",
              " (',', ','),\n",
              " ('a', 'DT'),\n",
              " ('powerful', 'JJ'),\n",
              " ('``', '``'),\n",
              " ('2-call', 'JJ'),\n",
              " (\"''\", \"''\"),\n",
              " ('charting', 'VBG'),\n",
              " ('system', 'NN'),\n",
              " ('based', 'VBN'),\n",
              " ('on', 'IN'),\n",
              " ('PHIGS+', 'NNP'),\n",
              " (',', ','),\n",
              " ('and', 'CC'),\n",
              " ('FIGt', 'NNP'),\n",
              " (',', ','),\n",
              " ('an', 'DT'),\n",
              " ('object-', 'JJ'),\n",
              " ('oriented', 'JJ'),\n",
              " ('utility', 'NN'),\n",
              " ('library', 'NN'),\n",
              " ('for', 'IN'),\n",
              " ('PHIGS/PEX', 'NNP'),\n",
              " ('developers', 'NNS'),\n",
              " ('.', '.'),\n",
              " ('G5G', 'NNP'),\n",
              " ('and', 'CC'),\n",
              " ('Gallium', 'NNP'),\n",
              " ('Software', 'NNP'),\n",
              " ('demonstrated', 'VBD'),\n",
              " ('a', 'DT'),\n",
              " ('new', 'JJ'),\n",
              " ('version', 'NN'),\n",
              " ('of', 'IN'),\n",
              " ('GPHIGS', 'NNP'),\n",
              " ('on', 'IN'),\n",
              " ('Silicon', 'NNP'),\n",
              " ('Graphics', 'NNP'),\n",
              " ('workstations', 'NNS'),\n",
              " ('.', '.'),\n",
              " ('Scheduled', 'VBN'),\n",
              " ('for', 'IN'),\n",
              " ('summer', 'NN'),\n",
              " (',', ','),\n",
              " ('1993', 'CD'),\n",
              " (',', ','),\n",
              " ('Ver-', 'NNP'),\n",
              " ('sion', 'NN'),\n",
              " ('3.0', 'CD'),\n",
              " ('of', 'IN'),\n",
              " ('GPHIGS', 'NNP'),\n",
              " (',', ','),\n",
              " ('the', 'DT'),\n",
              " ('company', 'NN'),\n",
              " (\"'s\", 'POS'),\n",
              " ('PHIGS+', 'NNP'),\n",
              " ('library', 'NN'),\n",
              " ('for', 'IN'),\n",
              " ('worksta-', 'JJ'),\n",
              " ('tions', 'NNS'),\n",
              " (',', ','),\n",
              " ('will', 'MD'),\n",
              " ('include', 'VB'),\n",
              " ('an', 'DT'),\n",
              " ('advanced', 'JJ'),\n",
              " ('PHIGS', 'NNP'),\n",
              " ('debugger', 'NN'),\n",
              " ('that', 'WDT'),\n",
              " ('allows', 'VBZ'),\n",
              " ('PHIGS', 'NNP'),\n",
              " ('developers', 'NNS'),\n",
              " ('to', 'TO'),\n",
              " ('display', 'VB'),\n",
              " ('and', 'CC'),\n",
              " ('browse', 'VB'),\n",
              " ('PHIGS', 'NNP'),\n",
              " ('structures', 'NNS'),\n",
              " ('and', 'CC'),\n",
              " ('other', 'JJ'),\n",
              " ('PHIGS', 'NNP'),\n",
              " ('internal', 'JJ'),\n",
              " ('state', 'NN'),\n",
              " ('.', '.'),\n",
              " ('G5G', 'NNP'),\n",
              " ('also', 'RB'),\n",
              " ('described', 'VBD'),\n",
              " ('their', 'PRP$'),\n",
              " ('Non-Duplicated', 'JJ'),\n",
              " ('Data', 'NNP'),\n",
              " ('Store', 'NNP'),\n",
              " ('that', 'IN'),\n",
              " ('stores', 'NNS'),\n",
              " ('pointers', 'NNS'),\n",
              " ('to', 'TO'),\n",
              " ('application', 'VB'),\n",
              " ('data', 'NNS'),\n",
              " ('in', 'IN'),\n",
              " ('the', 'DT'),\n",
              " ('GPHIGS', 'NNP'),\n",
              " ('CSS', 'NNP'),\n",
              " ('for', 'IN'),\n",
              " ('more', 'RBR'),\n",
              " ('efficient', 'JJ'),\n",
              " ('use', 'NN'),\n",
              " ('of', 'IN'),\n",
              " ('memory', 'NN'),\n",
              " ('.', '.'),\n",
              " ('In', 'IN'),\n",
              " ('addition', 'NN'),\n",
              " (',', ','),\n",
              " ('G5G', 'NNP'),\n",
              " ('described', 'VBD'),\n",
              " ('their', 'PRP$'),\n",
              " ('application', 'NN'),\n",
              " ('GSE', 'NNP'),\n",
              " ('that', 'WDT'),\n",
              " ('allows', 'VBZ'),\n",
              " ('application', 'NN'),\n",
              " ('callback', 'NN'),\n",
              " ('functions', 'NNS'),\n",
              " ('during', 'IN'),\n",
              " ('GPHIGS', 'NNP'),\n",
              " ('traversal', 'NN'),\n",
              " ('.', '.'),\n",
              " ('GPHIGS', 'NNP'),\n",
              " ('and', 'CC'),\n",
              " ('PHIGURE', 'NNP'),\n",
              " (',', ','),\n",
              " ('G5G', 'NNP'),\n",
              " (\"'s\", 'POS'),\n",
              " ('data', 'NNS'),\n",
              " ('visual-', 'JJ'),\n",
              " ('izer', 'NN'),\n",
              " ('and', 'CC'),\n",
              " ('application', 'NN'),\n",
              " ('development', 'NN'),\n",
              " ('toolkit', 'NN'),\n",
              " (',', ','),\n",
              " ('are', 'VBP'),\n",
              " ('currently', 'RB'),\n",
              " ('available', 'JJ'),\n",
              " ('on', 'IN'),\n",
              " ('all', 'DT'),\n",
              " ('major', 'JJ'),\n",
              " ('workstations', 'NNS'),\n",
              " ('that', 'WDT'),\n",
              " ('support', 'VBP'),\n",
              " ('GL', 'NNP'),\n",
              " (',', ','),\n",
              " ('X', 'NNP'),\n",
              " ('Windows', 'NNP'),\n",
              " (',', ','),\n",
              " ('PEX', 'NNP'),\n",
              " (',', ','),\n",
              " ('or', 'CC'),\n",
              " ('Starbase', 'NNP'),\n",
              " ('.', '.'),\n",
              " ('Wise', 'NNP'),\n",
              " ('Software', 'NNP'),\n",
              " ('presented', 'VBD'),\n",
              " ('a', 'DT'),\n",
              " ('slide', 'NN'),\n",
              " ('show', 'NN'),\n",
              " ('of', 'IN'),\n",
              " ('Z-PHIGS', 'NNP'),\n",
              " ('for', 'IN'),\n",
              " ('MS-Windows', 'NNP'),\n",
              " ('and', 'CC'),\n",
              " ('ARENA', 'NNP'),\n",
              " (',', ','),\n",
              " ('a', 'DT'),\n",
              " ('PHIGS', 'NNP'),\n",
              " ('based', 'VBN'),\n",
              " ('modeller/render', 'NN'),\n",
              " ('.', '.'),\n",
              " ('Z-PHIGS', 'JJ'),\n",
              " ('implements', 'NNS'),\n",
              " ('most', 'JJS'),\n",
              " ('of', 'IN'),\n",
              " ('the', 'DT'),\n",
              " ('PHIGS+', 'NNP'),\n",
              " ('primitives', 'NNS'),\n",
              " ('.', '.'),\n",
              " ('In', 'IN'),\n",
              " ('addition', 'NN'),\n",
              " ('Z-PHIGS', 'NNP'),\n",
              " ('has', 'VBZ'),\n",
              " ('built', 'VBN'),\n",
              " ('in', 'IN'),\n",
              " ('many', 'JJ'),\n",
              " ('advanced', 'JJ'),\n",
              " ('rendering', 'VBG'),\n",
              " ('features', 'NNS'),\n",
              " ('like', 'IN'),\n",
              " ('texture', 'NN'),\n",
              " ('mapping', 'NN'),\n",
              " (',', ','),\n",
              " ('shadow', 'JJ'),\n",
              " ('genera-', 'JJ'),\n",
              " ('tion', 'NN'),\n",
              " (',', ','),\n",
              " ('area', 'NN'),\n",
              " ('quick', 'NN'),\n",
              " ('updates', 'NNS'),\n",
              " ('and', 'CC'),\n",
              " ('ray', 'NN'),\n",
              " ('tracing', 'NN'),\n",
              " ('.', '.'),\n",
              " ('A', 'DT'),\n",
              " ('demo', 'JJ'),\n",
              " ('disk', 'NN'),\n",
              " ('of', 'IN'),\n",
              " ('Z-PHIGS', 'NNP'),\n",
              " ('or', 'CC'),\n",
              " ('ARENA', 'NNP'),\n",
              " ('is', 'VBZ'),\n",
              " ('available', 'JJ'),\n",
              " ('on', 'IN'),\n",
              " ('request', 'NN'),\n",
              " ('.', '.'),\n",
              " ('ATC', 'NNP'),\n",
              " ('exhibited', 'VBD'),\n",
              " ('GRAFPAK-PHIGS', 'NNP'),\n",
              " (',', ','),\n",
              " ('their', 'PRP$'),\n",
              " ('full-featured', 'JJ'),\n",
              " ('PHIGS', 'NNP'),\n",
              " ('implemen-', 'NN'),\n",
              " ('tation', 'NN'),\n",
              " ('based', 'VBN'),\n",
              " ('on', 'IN'),\n",
              " ('DEC', 'NNP'),\n",
              " ('PHIGS', 'NNP'),\n",
              " ('.', '.'),\n",
              " ('GRAFPAK-PHIGS', 'NNP'),\n",
              " ('is', 'VBZ'),\n",
              " ('available', 'JJ'),\n",
              " ('on', 'IN'),\n",
              " ('most', 'JJS'),\n",
              " ('workstation', 'NN'),\n",
              " ('platforms', 'NNS'),\n",
              " ('with', 'IN'),\n",
              " ('C', 'NNP'),\n",
              " (',', ','),\n",
              " ('FORTRAN', 'NNP'),\n",
              " ('and', 'CC'),\n",
              " ('Ada', 'NNP'),\n",
              " ('bindings', 'NNS'),\n",
              " ('and', 'CC'),\n",
              " ('incor-', 'JJ'),\n",
              " ('porates', 'NNS'),\n",
              " ('PEX', 'NNP'),\n",
              " ('support', 'NN'),\n",
              " ('.', '.'),\n",
              " ('Within', 'IN'),\n",
              " ('the', 'DT'),\n",
              " ('booth', 'NN'),\n",
              " ('sponsored', 'VBN'),\n",
              " ('by', 'IN'),\n",
              " ('Advanced', 'NNP'),\n",
              " ('Technology', 'NNP'),\n",
              " ('Center', 'NNP'),\n",
              " (',', ','),\n",
              " ('Digital', 'NNP'),\n",
              " ('Equipment', 'NNP'),\n",
              " ('Corporation', 'NNP'),\n",
              " ('demonstrated', 'VBD'),\n",
              " ('DEC', 'NNP'),\n",
              " ('PHIGS', 'NNP'),\n",
              " ('V2.4', 'NNP'),\n",
              " ('running', 'VBG'),\n",
              " ('on', 'IN'),\n",
              " ('the', 'DT'),\n",
              " ('DEC', 'NNP'),\n",
              " ('3000/400', 'CD'),\n",
              " ('AXP', 'NNP'),\n",
              " ('PXG', 'NNP'),\n",
              " ('.', '.'),\n",
              " ('ATCs', 'NNP'),\n",
              " (\"'\", 'POS'),\n",
              " ('GRAFPAK-PHIGS', 'NNP'),\n",
              " ('is', 'VBZ'),\n",
              " ('a', 'DT'),\n",
              " ('port', 'NN'),\n",
              " ('of', 'IN'),\n",
              " ('DEC', 'NNP'),\n",
              " ('PHIGS', 'NNP'),\n",
              " ('.', '.'),\n",
              " ('DEC', 'NNP'),\n",
              " ('PHIGS', 'NNP'),\n",
              " ('V2.4', 'NNP'),\n",
              " ('contains', 'VBZ'),\n",
              " ('most', 'JJS'),\n",
              " ('PHIGS', 'NNP'),\n",
              " ('and', 'CC'),\n",
              " ('PHIGS', 'NNP'),\n",
              " ('PLUS', 'NNP'),\n",
              " ('features', 'VBZ'),\n",
              " ('with', 'IN'),\n",
              " ('support', 'NN'),\n",
              " ('for', 'IN'),\n",
              " ('PEX', 'NNP'),\n",
              " ('V5.1', 'NNP'),\n",
              " ('protocol', 'NN'),\n",
              " ('.', '.'),\n",
              " ('DEC', 'NNP'),\n",
              " ('PHIGS', 'NNP'),\n",
              " ('also', 'RB'),\n",
              " ('contains', 'VBZ'),\n",
              " ('most', 'JJS'),\n",
              " ('GM/EDS', 'NNP'),\n",
              " ('PHIGS', 'NNP'),\n",
              " ('extensions', 'NNS'),\n",
              " ('including', 'VBG'),\n",
              " ('post-to-view', 'NN'),\n",
              " ('as', 'RB'),\n",
              " ('well', 'RB'),\n",
              " ('as', 'IN'),\n",
              " ('proprietary', 'JJ'),\n",
              " ('extensions', 'NNS'),\n",
              " ('to', 'TO'),\n",
              " ('support', 'VB'),\n",
              " ('immediate', 'JJ'),\n",
              " ('mode', 'NNS'),\n",
              " ('rendering', 'VBG'),\n",
              " ('and', 'CC'),\n",
              " ('the', 'DT'),\n",
              " ('use', 'NN'),\n",
              " ('of', 'IN'),\n",
              " ('PHIGS', 'NNP'),\n",
              " ('in', 'IN'),\n",
              " ('an', 'DT'),\n",
              " ('X11', 'NN'),\n",
              " ('environment', 'NN'),\n",
              " ('.', '.'),\n",
              " ('AXP', 'NNP'),\n",
              " (',', ','),\n",
              " ('DEC', 'NNP'),\n",
              " (',', ','),\n",
              " ('and', 'CC'),\n",
              " ('DEC', 'NNP'),\n",
              " ('PHIGS', 'NNP'),\n",
              " ('are', 'VBP'),\n",
              " ('trademarks', 'NNS'),\n",
              " ('of', 'IN'),\n",
              " ...]"
            ]
          },
          "metadata": {
            "tags": []
          },
          "execution_count": 53
        }
      ]
    },
    {
      "cell_type": "markdown",
      "metadata": {
        "id": "YNQu_982kbYb",
        "colab_type": "text"
      },
      "source": [
        "### Extraction of Bigram Collocations from the tokenized corpus (with POS tags)"
      ]
    },
    {
      "cell_type": "code",
      "metadata": {
        "id": "vAr9HWUfkqIk",
        "colab_type": "code",
        "colab": {}
      },
      "source": [
        "# Creating a bigram collocation extractor object\n",
        "bigram_extractor = BigramCollocationFinder.from_words(tokens_with_pos_tags)"
      ],
      "execution_count": 0,
      "outputs": []
    },
    {
      "cell_type": "code",
      "metadata": {
        "id": "-Jl3ATvoPjYK",
        "colab_type": "code",
        "outputId": "18476c39-1313-4796-ecab-e533247e2f7e",
        "colab": {
          "base_uri": "https://localhost:8080/",
          "height": 34
        }
      },
      "source": [
        "bigram_extractor"
      ],
      "execution_count": 0,
      "outputs": [
        {
          "output_type": "execute_result",
          "data": {
            "text/plain": [
              "<nltk.collocations.BigramCollocationFinder at 0x7fa515737b00>"
            ]
          },
          "metadata": {
            "tags": []
          },
          "execution_count": 55
        }
      ]
    },
    {
      "cell_type": "code",
      "metadata": {
        "id": "c-rTnm1zlArF",
        "colab_type": "code",
        "outputId": "437f8356-1080-4a22-d36b-fd5b6ab5cf42",
        "colab": {
          "base_uri": "https://localhost:8080/",
          "height": 1000
        }
      },
      "source": [
        "# Printing the bigrams\n",
        "bigram_freq_list = list(bigram_extractor.ngram_fd.items())\n",
        "bigram_freq_df = pd.DataFrame(bigram_freq_list, columns=['bigram', 'frequency']).sort_values(by='frequency', ascending=False)\n",
        "\n",
        "print(bigram_freq_df)"
      ],
      "execution_count": 0,
      "outputs": [
        {
          "output_type": "stream",
          "text": [
            "                                      bigram  frequency\n",
            "1825                      ((--, :), (--, :))       9878\n",
            "45                     ((of, IN), (the, DT))       3974\n",
            "322                      ((,, ,), (and, CC))       3569\n",
            "264                      ((., .), (The, DT))       2569\n",
            "35                        ((., .), (I, PRP))       2358\n",
            "110                    ((in, IN), (the, DT))       2232\n",
            "140                      ((,, ,), (but, CC))       1814\n",
            "3212                        ((), )), (., .))       1528\n",
            "526                      ((,, ,), (the, DT))       1396\n",
            "541                    ((to, TO), (the, DT))       1391\n",
            "1478                      ((,, ,), (I, PRP))       1270\n",
            "2672                     ((., .), (It, PRP))       1193\n",
            "77                      ((to, TO), (be, VB))       1145\n",
            "855                    ((on, IN), (the, DT))       1105\n",
            "1774                  ((do, VBP), (n't, RB))       1104\n",
            "864                     ((is, VBZ), (a, DT))       1035\n",
            "139                         ((), )), (,, ,))        974\n",
            "218                   ((for, IN), (the, DT))        927\n",
            "59                        ((., .), (If, IN))        901\n",
            "1956                  ((it, PRP), (is, VBZ))        900\n",
            "1892                 ((that, IN), (the, DT))        858\n",
            "1909                    ((., .), (This, DT))        847\n",
            "898                   ((and, CC), (the, DT))        812\n",
            "1991                      ((., .), ('', ''))        765\n",
            "3555                 ((I, PRP), (have, VBP))        743\n",
            "1955                     ((,, ,), (it, PRP))        733\n",
            "2576                        ((., .), ((, ())        723\n",
            "3802                 ((from, IN), (the, DT))        712\n",
            "2700                  ((is, VBZ), (the, DT))        698\n",
            "754                       ((,, ,), (or, CC))        693\n",
            "...                                      ...        ...\n",
            "166101           ((above, RB), (should, MD))          1\n",
            "166102          ((from, IN), (Counter, NNP))          1\n",
            "166078        ((his, PRP$), (comedies, NNS))          1\n",
            "166076             ((once, RB), (sold, VBD))          1\n",
            "166051  ((pragmatic, JJ), (disposition, NN))          1\n",
            "166075           ((Fields, NNP), (once, RB))          1\n",
            "166052     ((disposition, NN), (simply, RB))          1\n",
            "166053              ((simply, RB), (wo, MD))          1\n",
            "52223                 ((:, :), (motion, NN))          1\n",
            "166055           ((such, JJ), (dubious, JJ))          1\n",
            "166056    ((dubious, JJ), (merchandise, NN))          1\n",
            "166057           ((merchandise, NN), (., .))          1\n",
            "166058               ((], JJ), (Maybe, NNP))          1\n",
            "166059               ((Maybe, NNP), (--, :))          1\n",
            "166060             ((--, :), (remotely, RB))          1\n",
            "166061             ((remotely, RB), (--, :))          1\n",
            "166062       ((such, JJ), (promotions, NNS))          1\n",
            "166063           ((promotions, NNS), (,, ,))          1\n",
            "166064           ((the, DT), (talking, VBG))          1\n",
            "166065         ((talking, VBG), (dogs, NNS))          1\n",
            "166066              ((dogs, NNS), (and, CC))          1\n",
            "166067            ((the, DT), (stocks, NNS))          1\n",
            "52222         ((experience, VB), (some, DT))          1\n",
            "166069             ((in, IN), (Arabian, JJ))          1\n",
            "166070        ((Arabian, JJ), (tapioca, NN))          1\n",
            "166071         ((tapioca, NN), (mines, NNS))          1\n",
            "166072           ((mines, NNS), (that, WDT))          1\n",
            "166073            ((that, WDT), (W.C., NNP))          1\n",
            "166074          ((W.C., NNP), (Fields, NNP))          1\n",
            "320909              ((., .), (Brandon, NNP))          1\n",
            "\n",
            "[320910 rows x 2 columns]\n"
          ],
          "name": "stdout"
        }
      ]
    },
    {
      "cell_type": "markdown",
      "metadata": {
        "id": "_5VvOWcKukM3",
        "colab_type": "text"
      },
      "source": [
        "## 1)b) Applying Frequency with Filter technique\n",
        "\n",
        "We can see that the dataframe displayed above contains many stopwords, operators and punctuations in the bigram collocations. Firstly we could apply a filter to remove the bigrams that contain stopwords, punctuation marks and operators. We would also apply another filter which retains bigrams that contains the following two combinations of POS tags:\n",
        "\n",
        "- ADJ (adjective), NN (noun)\n",
        "- NN, NN\n",
        "\n",
        "### The reason for applying the POS tag filter is because in literature, these two POS tags are the most commonly used ones in literature."
      ]
    },
    {
      "cell_type": "markdown",
      "metadata": {
        "id": "F0VZtWWOGTQF",
        "colab_type": "text"
      },
      "source": [
        "### STOPWORD AND OPERATORS FILTER"
      ]
    },
    {
      "cell_type": "code",
      "metadata": {
        "id": "rP9WnySVoqJ7",
        "colab_type": "code",
        "colab": {}
      },
      "source": [
        "# Adding the stopwords in a list\n",
        "stopwords_list = stopwords.words('english')\n",
        "# Operator and punctuations regex condition\n",
        "op_punc_omitter = re.compile(r'\\w+')"
      ],
      "execution_count": 0,
      "outputs": []
    },
    {
      "cell_type": "code",
      "metadata": {
        "id": "GLSGQl5_1wc1",
        "colab_type": "code",
        "colab": {}
      },
      "source": [
        "# Anonymous function to remove bigrams containing stopwords\n",
        "stopword_filter_f1 = lambda x: (x[0][0][0].lower() not in stopwords_list) and (x[0][1][0].lower() not in stopwords_list) and (op_punc_omitter.match(x[0][0][0])) and (op_punc_omitter.match(x[0][1][0]))\n"
      ],
      "execution_count": 0,
      "outputs": []
    },
    {
      "cell_type": "code",
      "metadata": {
        "id": "MROPOTyJcT0W",
        "colab_type": "code",
        "outputId": "b81d58b9-7a7e-42d0-df48-dc7898367081",
        "colab": {
          "base_uri": "https://localhost:8080/",
          "height": 34
        }
      },
      "source": [
        "# Applying the stopword filter to list\n",
        "f1_bigram_freq_list = list(filter(stopword_filter_f1, bigram_freq_list))\n",
        "# Conversion to df\n",
        "f1_bigram_freq_df = pd.DataFrame(f1_bigram_freq_list, columns=['bigram', 'frequency']).sort_values(by='frequency', ascending=False)\n",
        "f1_bigram_freq_df.shape"
      ],
      "execution_count": 0,
      "outputs": [
        {
          "output_type": "execute_result",
          "data": {
            "text/plain": [
              "(93448, 2)"
            ]
          },
          "metadata": {
            "tags": []
          },
          "execution_count": 59
        }
      ]
    },
    {
      "cell_type": "markdown",
      "metadata": {
        "id": "OeWEXSOV9F8R",
        "colab_type": "text"
      },
      "source": [
        "### Inference: After applying the stopword filter, we can see that the number of bigrams in the dataframe has reduced by ~285000"
      ]
    },
    {
      "cell_type": "markdown",
      "metadata": {
        "id": "gp41om9xGeLT",
        "colab_type": "text"
      },
      "source": [
        "### POS TAG FILTER"
      ]
    },
    {
      "cell_type": "code",
      "metadata": {
        "id": "jkEcctWo57qj",
        "colab_type": "code",
        "colab": {}
      },
      "source": [
        "# Noun list \n",
        "noun_abbr = ['NN', 'NNS', 'NNP', 'NNPS']\n",
        "\n",
        "# Adjective list\n",
        "adj_abbr = ['JJ', 'JJR', 'JJS']\n",
        "\n",
        "# Anonymous function to remove bigrams containing pos tags other than Noun or Adj phrases in the first word \n",
        "# and just Noun phrases in the second word\n",
        "pos_tag_filter_f2 = lambda x: (x[0][0][1] in noun_abbr or x[0][0][1] in adj_abbr) and (x[0][1][1] in noun_abbr)"
      ],
      "execution_count": 0,
      "outputs": []
    },
    {
      "cell_type": "code",
      "metadata": {
        "id": "w8g69CsgrsmA",
        "colab_type": "code",
        "outputId": "597a931e-13c0-49d8-ca1a-dd55f19dea1f",
        "colab": {
          "base_uri": "https://localhost:8080/",
          "height": 34
        }
      },
      "source": [
        "# Applying the pos tag filter\n",
        "f1f2_bigrams_list = list(filter(pos_tag_filter_f2, f1_bigram_freq_list))\n",
        "# Conversion to dataframe\n",
        "f2_bigram_freq_df = pd.DataFrame(f1f2_bigrams_list, columns=['bigram', 'frequency']).sort_values(by='frequency', ascending=False)\n",
        "f2_bigram_freq_df.shape"
      ],
      "execution_count": 0,
      "outputs": [
        {
          "output_type": "execute_result",
          "data": {
            "text/plain": [
              "(45412, 2)"
            ]
          },
          "metadata": {
            "tags": []
          },
          "execution_count": 61
        }
      ]
    },
    {
      "cell_type": "markdown",
      "metadata": {
        "id": "OZtLf3wAGG9S",
        "colab_type": "text"
      },
      "source": [
        "### Inference: After applying the POS tag filter, we can see that the number of bigrams has reduced even more by ~57000"
      ]
    },
    {
      "cell_type": "markdown",
      "metadata": {
        "id": "DCIdAOrIK3bA",
        "colab_type": "text"
      },
      "source": [
        "### Printing the top 20 results of Frequency with filter technique"
      ]
    },
    {
      "cell_type": "code",
      "metadata": {
        "id": "K49Eefx8IqXi",
        "colab_type": "code",
        "outputId": "4904a65c-4626-426a-de9c-e7b0cc772551",
        "colab": {
          "base_uri": "https://localhost:8080/",
          "height": 669
        }
      },
      "source": [
        "f2_bigram_freq_df.head(20)"
      ],
      "execution_count": 0,
      "outputs": [
        {
          "output_type": "execute_result",
          "data": {
            "text/html": [
              "<div>\n",
              "<style scoped>\n",
              "    .dataframe tbody tr th:only-of-type {\n",
              "        vertical-align: middle;\n",
              "    }\n",
              "\n",
              "    .dataframe tbody tr th {\n",
              "        vertical-align: top;\n",
              "    }\n",
              "\n",
              "    .dataframe thead th {\n",
              "        text-align: right;\n",
              "    }\n",
              "</style>\n",
              "<table border=\"1\" class=\"dataframe\">\n",
              "  <thead>\n",
              "    <tr style=\"text-align: right;\">\n",
              "      <th></th>\n",
              "      <th>bigram</th>\n",
              "      <th>frequency</th>\n",
              "    </tr>\n",
              "  </thead>\n",
              "  <tbody>\n",
              "    <tr>\n",
              "      <th>1220</th>\n",
              "      <td>((image, NN), (processing, NN))</td>\n",
              "      <td>82</td>\n",
              "    </tr>\n",
              "    <tr>\n",
              "      <th>1085</th>\n",
              "      <td>((source, NN), (code, NN))</td>\n",
              "      <td>68</td>\n",
              "    </tr>\n",
              "    <tr>\n",
              "      <th>822</th>\n",
              "      <td>((New, NNP), (York, NNP))</td>\n",
              "      <td>62</td>\n",
              "    </tr>\n",
              "    <tr>\n",
              "      <th>1985</th>\n",
              "      <td>((Jesus, NNP), (Christ, NNP))</td>\n",
              "      <td>62</td>\n",
              "    </tr>\n",
              "    <tr>\n",
              "      <th>1282</th>\n",
              "      <td>((anonymous, JJ), (FTP, NNP))</td>\n",
              "      <td>60</td>\n",
              "    </tr>\n",
              "    <tr>\n",
              "      <th>1932</th>\n",
              "      <td>((many, JJ), (people, NNS))</td>\n",
              "      <td>59</td>\n",
              "    </tr>\n",
              "    <tr>\n",
              "      <th>884</th>\n",
              "      <td>((solar, JJ), (system, NN))</td>\n",
              "      <td>57</td>\n",
              "    </tr>\n",
              "    <tr>\n",
              "      <th>2883</th>\n",
              "      <td>((space, NN), (station, NN))</td>\n",
              "      <td>55</td>\n",
              "    </tr>\n",
              "    <tr>\n",
              "      <th>13889</th>\n",
              "      <td>((image, NN), (quality, NN))</td>\n",
              "      <td>55</td>\n",
              "    </tr>\n",
              "    <tr>\n",
              "      <th>12273</th>\n",
              "      <td>((physical, JJ), (universe, NN))</td>\n",
              "      <td>54</td>\n",
              "    </tr>\n",
              "    <tr>\n",
              "      <th>574</th>\n",
              "      <td>((Space, NNP), (Shuttle, NNP))</td>\n",
              "      <td>54</td>\n",
              "    </tr>\n",
              "    <tr>\n",
              "      <th>3662</th>\n",
              "      <td>((United, NNP), (States, NNPS))</td>\n",
              "      <td>45</td>\n",
              "    </tr>\n",
              "    <tr>\n",
              "      <th>16660</th>\n",
              "      <td>((_/, NNP), (_/, NNP))</td>\n",
              "      <td>43</td>\n",
              "    </tr>\n",
              "    <tr>\n",
              "      <th>10874</th>\n",
              "      <td>((file, NN), (format, NN))</td>\n",
              "      <td>41</td>\n",
              "    </tr>\n",
              "    <tr>\n",
              "      <th>330</th>\n",
              "      <td>((anonymous, JJ), (ftp, NN))</td>\n",
              "      <td>41</td>\n",
              "    </tr>\n",
              "    <tr>\n",
              "      <th>468</th>\n",
              "      <td>((Computer, NNP), (Graphics, NNP))</td>\n",
              "      <td>40</td>\n",
              "    </tr>\n",
              "    <tr>\n",
              "      <th>14355</th>\n",
              "      <td>((free, JJ), (JPEG, NNP))</td>\n",
              "      <td>39</td>\n",
              "    </tr>\n",
              "    <tr>\n",
              "      <th>1431</th>\n",
              "      <td>((current, JJ), (version, NN))</td>\n",
              "      <td>39</td>\n",
              "    </tr>\n",
              "    <tr>\n",
              "      <th>14260</th>\n",
              "      <td>((JPEG, NNP), (software, NN))</td>\n",
              "      <td>39</td>\n",
              "    </tr>\n",
              "    <tr>\n",
              "      <th>1138</th>\n",
              "      <td>((image, NN), (manipulation, NN))</td>\n",
              "      <td>36</td>\n",
              "    </tr>\n",
              "  </tbody>\n",
              "</table>\n",
              "</div>"
            ],
            "text/plain": [
              "                                   bigram  frequency\n",
              "1220      ((image, NN), (processing, NN))         82\n",
              "1085           ((source, NN), (code, NN))         68\n",
              "822             ((New, NNP), (York, NNP))         62\n",
              "1985        ((Jesus, NNP), (Christ, NNP))         62\n",
              "1282        ((anonymous, JJ), (FTP, NNP))         60\n",
              "1932          ((many, JJ), (people, NNS))         59\n",
              "884           ((solar, JJ), (system, NN))         57\n",
              "2883         ((space, NN), (station, NN))         55\n",
              "13889        ((image, NN), (quality, NN))         55\n",
              "12273    ((physical, JJ), (universe, NN))         54\n",
              "574        ((Space, NNP), (Shuttle, NNP))         54\n",
              "3662      ((United, NNP), (States, NNPS))         45\n",
              "16660              ((_/, NNP), (_/, NNP))         43\n",
              "10874          ((file, NN), (format, NN))         41\n",
              "330          ((anonymous, JJ), (ftp, NN))         41\n",
              "468    ((Computer, NNP), (Graphics, NNP))         40\n",
              "14355           ((free, JJ), (JPEG, NNP))         39\n",
              "1431       ((current, JJ), (version, NN))         39\n",
              "14260       ((JPEG, NNP), (software, NN))         39\n",
              "1138    ((image, NN), (manipulation, NN))         36"
            ]
          },
          "metadata": {
            "tags": []
          },
          "execution_count": 62
        }
      ]
    },
    {
      "cell_type": "markdown",
      "metadata": {
        "id": "FsFws7dhGlGJ",
        "colab_type": "text"
      },
      "source": [
        "## 1)b) Pointwise Mutual Information (PMI) filter"
      ]
    },
    {
      "cell_type": "code",
      "metadata": {
        "id": "5UmC5C3WH3yU",
        "colab_type": "code",
        "colab": {}
      },
      "source": [
        "# Calculating Pointwise mutual information for bigrams\n",
        "bigram_assoc = nltk.collocations.BigramAssocMeasures()\n",
        "bigram_extractor.apply_freq_filter(20)\n",
        "bigram_pmi_list = list(bigram_extractor.score_ngrams(bigram_assoc.pmi))"
      ],
      "execution_count": 0,
      "outputs": []
    },
    {
      "cell_type": "code",
      "metadata": {
        "id": "EEI3OzKKZ3xg",
        "colab_type": "code",
        "colab": {}
      },
      "source": [
        "# Conversion to df\n",
        "bigram_pmi_df = pd.DataFrame(bigram_pmi_list, columns=['bigram', 'Pmi']).sort_values(by='Pmi', ascending=False)"
      ],
      "execution_count": 0,
      "outputs": []
    },
    {
      "cell_type": "markdown",
      "metadata": {
        "id": "vKo9lR6yuEo1",
        "colab_type": "text"
      },
      "source": [
        "### Printing the top 20 results of PMI Technique"
      ]
    },
    {
      "cell_type": "code",
      "metadata": {
        "id": "aE_T1sPFt_7Z",
        "colab_type": "code",
        "outputId": "7ea8f41e-a373-4c32-83dc-26604b23cfda",
        "colab": {
          "base_uri": "https://localhost:8080/",
          "height": 669
        }
      },
      "source": [
        "bigram_pmi_df.head(20)"
      ],
      "execution_count": 0,
      "outputs": [
        {
          "output_type": "execute_result",
          "data": {
            "text/html": [
              "<div>\n",
              "<style scoped>\n",
              "    .dataframe tbody tr th:only-of-type {\n",
              "        vertical-align: middle;\n",
              "    }\n",
              "\n",
              "    .dataframe tbody tr th {\n",
              "        vertical-align: top;\n",
              "    }\n",
              "\n",
              "    .dataframe thead th {\n",
              "        text-align: right;\n",
              "    }\n",
              "</style>\n",
              "<table border=\"1\" class=\"dataframe\">\n",
              "  <thead>\n",
              "    <tr style=\"text-align: right;\">\n",
              "      <th></th>\n",
              "      <th>bigram</th>\n",
              "      <th>Pmi</th>\n",
              "    </tr>\n",
              "  </thead>\n",
              "  <tbody>\n",
              "    <tr>\n",
              "      <th>0</th>\n",
              "      <td>((Beauchaine, NNP), (bobbe, NN))</td>\n",
              "      <td>14.832734</td>\n",
              "    </tr>\n",
              "    <tr>\n",
              "      <th>1</th>\n",
              "      <td>((sank, VBD), (Manhattan, NNP))</td>\n",
              "      <td>14.832734</td>\n",
              "    </tr>\n",
              "    <tr>\n",
              "      <th>2</th>\n",
              "      <td>((MY, NNP), (REPLY, NNP))</td>\n",
              "      <td>14.741760</td>\n",
              "    </tr>\n",
              "    <tr>\n",
              "      <th>3</th>\n",
              "      <td>((GENERAL, NNP), (UNIFIED, NNP))</td>\n",
              "      <td>14.691134</td>\n",
              "    </tr>\n",
              "    <tr>\n",
              "      <th>4</th>\n",
              "      <td>((61, CD), (275, CD))</td>\n",
              "      <td>14.478726</td>\n",
              "    </tr>\n",
              "    <tr>\n",
              "      <th>5</th>\n",
              "      <td>((Physicist, NNP), (Dewey, NNP))</td>\n",
              "      <td>14.471773</td>\n",
              "    </tr>\n",
              "    <tr>\n",
              "      <th>6</th>\n",
              "      <td>((Dewey, NNP), (B., NNP))</td>\n",
              "      <td>14.210530</td>\n",
              "    </tr>\n",
              "    <tr>\n",
              "      <th>7</th>\n",
              "      <td>((Air, NNP), (Force, NNP))</td>\n",
              "      <td>14.194272</td>\n",
              "    </tr>\n",
              "    <tr>\n",
              "      <th>8</th>\n",
              "      <td>((Resource, NNP), (Listing, NNP))</td>\n",
              "      <td>14.004795</td>\n",
              "    </tr>\n",
              "    <tr>\n",
              "      <th>9</th>\n",
              "      <td>((comprehensive, JJ), (GENERAL, NNP))</td>\n",
              "      <td>13.921914</td>\n",
              "    </tr>\n",
              "    <tr>\n",
              "      <th>10</th>\n",
              "      <td>((no, RB), (longer, RB))</td>\n",
              "      <td>13.853054</td>\n",
              "    </tr>\n",
              "    <tr>\n",
              "      <th>11</th>\n",
              "      <td>((*=, NNP), (t, NN))</td>\n",
              "      <td>13.841296</td>\n",
              "    </tr>\n",
              "    <tr>\n",
              "      <th>12</th>\n",
              "      <td>((San, NNP), (Jose, NNP))</td>\n",
              "      <td>13.766008</td>\n",
              "    </tr>\n",
              "    <tr>\n",
              "      <th>13</th>\n",
              "      <td>((Mary, NNP), (Shafer, NNP))</td>\n",
              "      <td>13.604257</td>\n",
              "    </tr>\n",
              "    <tr>\n",
              "      <th>14</th>\n",
              "      <td>((United, NNP), (States, NNPS))</td>\n",
              "      <td>13.561188</td>\n",
              "    </tr>\n",
              "    <tr>\n",
              "      <th>15</th>\n",
              "      <td>((arithmetic, JJ), (coding, NN))</td>\n",
              "      <td>13.549115</td>\n",
              "    </tr>\n",
              "    <tr>\n",
              "      <th>16</th>\n",
              "      <td>((Mr, NNP), (DeCenso, NNP))</td>\n",
              "      <td>13.542742</td>\n",
              "    </tr>\n",
              "    <tr>\n",
              "      <th>17</th>\n",
              "      <td>((Ames, NNP), (Dryden, NNP))</td>\n",
              "      <td>13.506877</td>\n",
              "    </tr>\n",
              "    <tr>\n",
              "      <th>18</th>\n",
              "      <td>((Oort, NNP), (cloud, NN))</td>\n",
              "      <td>13.435303</td>\n",
              "    </tr>\n",
              "    <tr>\n",
              "      <th>19</th>\n",
              "      <td>((_/, NNP), (_/, NNP))</td>\n",
              "      <td>13.358954</td>\n",
              "    </tr>\n",
              "  </tbody>\n",
              "</table>\n",
              "</div>"
            ],
            "text/plain": [
              "                                   bigram        Pmi\n",
              "0        ((Beauchaine, NNP), (bobbe, NN))  14.832734\n",
              "1         ((sank, VBD), (Manhattan, NNP))  14.832734\n",
              "2               ((MY, NNP), (REPLY, NNP))  14.741760\n",
              "3        ((GENERAL, NNP), (UNIFIED, NNP))  14.691134\n",
              "4                   ((61, CD), (275, CD))  14.478726\n",
              "5        ((Physicist, NNP), (Dewey, NNP))  14.471773\n",
              "6               ((Dewey, NNP), (B., NNP))  14.210530\n",
              "7              ((Air, NNP), (Force, NNP))  14.194272\n",
              "8       ((Resource, NNP), (Listing, NNP))  14.004795\n",
              "9   ((comprehensive, JJ), (GENERAL, NNP))  13.921914\n",
              "10               ((no, RB), (longer, RB))  13.853054\n",
              "11                   ((*=, NNP), (t, NN))  13.841296\n",
              "12              ((San, NNP), (Jose, NNP))  13.766008\n",
              "13           ((Mary, NNP), (Shafer, NNP))  13.604257\n",
              "14        ((United, NNP), (States, NNPS))  13.561188\n",
              "15       ((arithmetic, JJ), (coding, NN))  13.549115\n",
              "16            ((Mr, NNP), (DeCenso, NNP))  13.542742\n",
              "17           ((Ames, NNP), (Dryden, NNP))  13.506877\n",
              "18             ((Oort, NNP), (cloud, NN))  13.435303\n",
              "19                 ((_/, NNP), (_/, NNP))  13.358954"
            ]
          },
          "metadata": {
            "tags": []
          },
          "execution_count": 65
        }
      ]
    },
    {
      "cell_type": "markdown",
      "metadata": {
        "id": "NnUMYscjpOD6",
        "colab_type": "text"
      },
      "source": [
        "### 1) b) T-test\n"
      ]
    },
    {
      "cell_type": "code",
      "metadata": {
        "id": "swF_p4LapNoD",
        "colab_type": "code",
        "outputId": "620d5a4e-11d2-4b12-872c-60870d2d4cd6",
        "colab": {
          "base_uri": "https://localhost:8080/",
          "height": 34
        }
      },
      "source": [
        "# Performing T-test on bigrams\n",
        "bigram_ttest_list =list(bigram_extractor.score_ngrams(bigram_assoc.student_t))\n",
        "len(bigram_ttest_list)"
      ],
      "execution_count": 0,
      "outputs": [
        {
          "output_type": "execute_result",
          "data": {
            "text/plain": [
              "3736"
            ]
          },
          "metadata": {
            "tags": []
          },
          "execution_count": 66
        }
      ]
    },
    {
      "cell_type": "code",
      "metadata": {
        "id": "NOaKH8uwqP6J",
        "colab_type": "code",
        "outputId": "5e90b29d-5630-44ad-97b9-5665f7741123",
        "colab": {
          "base_uri": "https://localhost:8080/",
          "height": 34
        }
      },
      "source": [
        "# Applying the stopword and punctuation filter to list\n",
        "bigram_ttest_f1_list = list(filter(stopword_filter_f1, bigram_ttest_list))\n",
        "\n",
        "# Conversion to df\n",
        "f1_bigram_ttest_df = pd.DataFrame(bigram_ttest_f1_list, columns=['bigram', 'T_Value']).sort_values(by='T_Value', ascending=False)\n",
        "f1_bigram_ttest_df.shape"
      ],
      "execution_count": 0,
      "outputs": [
        {
          "output_type": "execute_result",
          "data": {
            "text/plain": [
              "(141, 2)"
            ]
          },
          "metadata": {
            "tags": []
          },
          "execution_count": 67
        }
      ]
    },
    {
      "cell_type": "markdown",
      "metadata": {
        "id": "tK7yoHXpvoaN",
        "colab_type": "text"
      },
      "source": [
        "### Inference -  After removing the stopwords and punctuations, we can see that the number of bigrams has reduced by ~290000"
      ]
    },
    {
      "cell_type": "code",
      "metadata": {
        "id": "PY0I1p1yr_Hq",
        "colab_type": "code",
        "outputId": "71dc6669-9674-4e3b-e26c-14c05991e541",
        "colab": {
          "base_uri": "https://localhost:8080/",
          "height": 34
        }
      },
      "source": [
        "# Applying the pos tag filter\n",
        "bigram_ttest_f1f2_list = list(filter(pos_tag_filter_f2, bigram_ttest_f1_list))\n",
        "\n",
        "# Conversion to df\n",
        "f1f2_bigram_ttest_df = pd.DataFrame(bigram_ttest_f1f2_list, columns=['bigram', 'T_Value']).sort_values(by='T_Value', ascending=False)\n",
        "f1f2_bigram_ttest_df.shape"
      ],
      "execution_count": 0,
      "outputs": [
        {
          "output_type": "execute_result",
          "data": {
            "text/plain": [
              "(83, 2)"
            ]
          },
          "metadata": {
            "tags": []
          },
          "execution_count": 68
        }
      ]
    },
    {
      "cell_type": "markdown",
      "metadata": {
        "id": "--IJWnfGwwbQ",
        "colab_type": "text"
      },
      "source": [
        "### Inference -  After applying POS filters,  we can see that the number of bigrams has been reduced even more by ~57000"
      ]
    },
    {
      "cell_type": "code",
      "metadata": {
        "id": "W3dKtgS9uSUl",
        "colab_type": "code",
        "outputId": "61de1486-a34c-4ffb-b81c-71a7389613ea",
        "colab": {
          "base_uri": "https://localhost:8080/",
          "height": 669
        }
      },
      "source": [
        "f1f2_bigram_ttest_df.head(20)"
      ],
      "execution_count": 0,
      "outputs": [
        {
          "output_type": "execute_result",
          "data": {
            "text/html": [
              "<div>\n",
              "<style scoped>\n",
              "    .dataframe tbody tr th:only-of-type {\n",
              "        vertical-align: middle;\n",
              "    }\n",
              "\n",
              "    .dataframe tbody tr th {\n",
              "        vertical-align: top;\n",
              "    }\n",
              "\n",
              "    .dataframe thead th {\n",
              "        text-align: right;\n",
              "    }\n",
              "</style>\n",
              "<table border=\"1\" class=\"dataframe\">\n",
              "  <thead>\n",
              "    <tr style=\"text-align: right;\">\n",
              "      <th></th>\n",
              "      <th>bigram</th>\n",
              "      <th>T_Value</th>\n",
              "    </tr>\n",
              "  </thead>\n",
              "  <tbody>\n",
              "    <tr>\n",
              "      <th>0</th>\n",
              "      <td>((image, NN), (processing, NN))</td>\n",
              "      <td>9.035436</td>\n",
              "    </tr>\n",
              "    <tr>\n",
              "      <th>1</th>\n",
              "      <td>((source, NN), (code, NN))</td>\n",
              "      <td>8.236531</td>\n",
              "    </tr>\n",
              "    <tr>\n",
              "      <th>2</th>\n",
              "      <td>((New, NNP), (York, NNP))</td>\n",
              "      <td>7.872193</td>\n",
              "    </tr>\n",
              "    <tr>\n",
              "      <th>3</th>\n",
              "      <td>((Jesus, NNP), (Christ, NNP))</td>\n",
              "      <td>7.855769</td>\n",
              "    </tr>\n",
              "    <tr>\n",
              "      <th>4</th>\n",
              "      <td>((anonymous, JJ), (FTP, NNP))</td>\n",
              "      <td>7.741319</td>\n",
              "    </tr>\n",
              "    <tr>\n",
              "      <th>5</th>\n",
              "      <td>((many, JJ), (people, NNS))</td>\n",
              "      <td>7.551466</td>\n",
              "    </tr>\n",
              "    <tr>\n",
              "      <th>6</th>\n",
              "      <td>((solar, JJ), (system, NN))</td>\n",
              "      <td>7.533181</td>\n",
              "    </tr>\n",
              "    <tr>\n",
              "      <th>7</th>\n",
              "      <td>((space, NN), (station, NN))</td>\n",
              "      <td>7.404434</td>\n",
              "    </tr>\n",
              "    <tr>\n",
              "      <th>8</th>\n",
              "      <td>((image, NN), (quality, NN))</td>\n",
              "      <td>7.385288</td>\n",
              "    </tr>\n",
              "    <tr>\n",
              "      <th>9</th>\n",
              "      <td>((physical, JJ), (universe, NN))</td>\n",
              "      <td>7.345248</td>\n",
              "    </tr>\n",
              "    <tr>\n",
              "      <th>10</th>\n",
              "      <td>((Space, NNP), (Shuttle, NNP))</td>\n",
              "      <td>7.338217</td>\n",
              "    </tr>\n",
              "    <tr>\n",
              "      <th>11</th>\n",
              "      <td>((United, NNP), (States, NNPS))</td>\n",
              "      <td>6.707649</td>\n",
              "    </tr>\n",
              "    <tr>\n",
              "      <th>12</th>\n",
              "      <td>((_/, NNP), (_/, NNP))</td>\n",
              "      <td>6.556814</td>\n",
              "    </tr>\n",
              "    <tr>\n",
              "      <th>13</th>\n",
              "      <td>((anonymous, JJ), (ftp, NN))</td>\n",
              "      <td>6.400759</td>\n",
              "    </tr>\n",
              "    <tr>\n",
              "      <th>14</th>\n",
              "      <td>((file, NN), (format, NN))</td>\n",
              "      <td>6.364405</td>\n",
              "    </tr>\n",
              "    <tr>\n",
              "      <th>15</th>\n",
              "      <td>((Computer, NNP), (Graphics, NNP))</td>\n",
              "      <td>6.320206</td>\n",
              "    </tr>\n",
              "    <tr>\n",
              "      <th>16</th>\n",
              "      <td>((current, JJ), (version, NN))</td>\n",
              "      <td>6.228839</td>\n",
              "    </tr>\n",
              "    <tr>\n",
              "      <th>17</th>\n",
              "      <td>((free, JJ), (JPEG, NNP))</td>\n",
              "      <td>6.205628</td>\n",
              "    </tr>\n",
              "    <tr>\n",
              "      <th>18</th>\n",
              "      <td>((JPEG, NNP), (software, NN))</td>\n",
              "      <td>6.188299</td>\n",
              "    </tr>\n",
              "    <tr>\n",
              "      <th>19</th>\n",
              "      <td>((image, NN), (manipulation, NN))</td>\n",
              "      <td>5.985257</td>\n",
              "    </tr>\n",
              "  </tbody>\n",
              "</table>\n",
              "</div>"
            ],
            "text/plain": [
              "                                bigram   T_Value\n",
              "0      ((image, NN), (processing, NN))  9.035436\n",
              "1           ((source, NN), (code, NN))  8.236531\n",
              "2            ((New, NNP), (York, NNP))  7.872193\n",
              "3        ((Jesus, NNP), (Christ, NNP))  7.855769\n",
              "4        ((anonymous, JJ), (FTP, NNP))  7.741319\n",
              "5          ((many, JJ), (people, NNS))  7.551466\n",
              "6          ((solar, JJ), (system, NN))  7.533181\n",
              "7         ((space, NN), (station, NN))  7.404434\n",
              "8         ((image, NN), (quality, NN))  7.385288\n",
              "9     ((physical, JJ), (universe, NN))  7.345248\n",
              "10      ((Space, NNP), (Shuttle, NNP))  7.338217\n",
              "11     ((United, NNP), (States, NNPS))  6.707649\n",
              "12              ((_/, NNP), (_/, NNP))  6.556814\n",
              "13        ((anonymous, JJ), (ftp, NN))  6.400759\n",
              "14          ((file, NN), (format, NN))  6.364405\n",
              "15  ((Computer, NNP), (Graphics, NNP))  6.320206\n",
              "16      ((current, JJ), (version, NN))  6.228839\n",
              "17           ((free, JJ), (JPEG, NNP))  6.205628\n",
              "18       ((JPEG, NNP), (software, NN))  6.188299\n",
              "19   ((image, NN), (manipulation, NN))  5.985257"
            ]
          },
          "metadata": {
            "tags": []
          },
          "execution_count": 69
        }
      ]
    },
    {
      "cell_type": "markdown",
      "metadata": {
        "id": "k8Gn_AToS6ze",
        "colab_type": "text"
      },
      "source": [
        "### 1) b) Chi-sq Test "
      ]
    },
    {
      "cell_type": "code",
      "metadata": {
        "id": "qB1cKq8eS6TB",
        "colab_type": "code",
        "outputId": "aeea1fbc-c043-412d-db17-dcb08c51b998",
        "colab": {
          "base_uri": "https://localhost:8080/",
          "height": 34
        }
      },
      "source": [
        "# Apply Chi-sq Test on bigrams\n",
        "bigram_chisq_list = list(bigram_extractor.score_ngrams(bigram_assoc.chi_sq))\n",
        "len(bigram_chisq_list)"
      ],
      "execution_count": 0,
      "outputs": [
        {
          "output_type": "execute_result",
          "data": {
            "text/plain": [
              "3736"
            ]
          },
          "metadata": {
            "tags": []
          },
          "execution_count": 70
        }
      ]
    },
    {
      "cell_type": "code",
      "metadata": {
        "id": "nH6Yx1WxUsCR",
        "colab_type": "code",
        "outputId": "8b6a430e-84b0-4b6c-9922-e616c988ce5f",
        "colab": {
          "base_uri": "https://localhost:8080/",
          "height": 34
        }
      },
      "source": [
        "# Conversion to df\n",
        "bigram_chisq_df = pd.DataFrame(bigram_chisq_list, columns=['bigram', 'Chi-sq']).sort_values(by='Chi-sq', ascending=False)\n",
        "bigram_chisq_df.shape"
      ],
      "execution_count": 0,
      "outputs": [
        {
          "output_type": "execute_result",
          "data": {
            "text/plain": [
              "(3736, 2)"
            ]
          },
          "metadata": {
            "tags": []
          },
          "execution_count": 71
        }
      ]
    },
    {
      "cell_type": "code",
      "metadata": {
        "id": "TSSG8rHLV_9-",
        "colab_type": "code",
        "outputId": "cfdad96f-fc49-49a1-e29e-08afd3233a15",
        "colab": {
          "base_uri": "https://localhost:8080/",
          "height": 669
        }
      },
      "source": [
        "bigram_chisq_df.head(20)"
      ],
      "execution_count": 0,
      "outputs": [
        {
          "output_type": "execute_result",
          "data": {
            "text/html": [
              "<div>\n",
              "<style scoped>\n",
              "    .dataframe tbody tr th:only-of-type {\n",
              "        vertical-align: middle;\n",
              "    }\n",
              "\n",
              "    .dataframe tbody tr th {\n",
              "        vertical-align: top;\n",
              "    }\n",
              "\n",
              "    .dataframe thead th {\n",
              "        text-align: right;\n",
              "    }\n",
              "</style>\n",
              "<table border=\"1\" class=\"dataframe\">\n",
              "  <thead>\n",
              "    <tr style=\"text-align: right;\">\n",
              "      <th></th>\n",
              "      <th>bigram</th>\n",
              "      <th>Chi-sq</th>\n",
              "    </tr>\n",
              "  </thead>\n",
              "  <tbody>\n",
              "    <tr>\n",
              "      <th>0</th>\n",
              "      <td>((GENERAL, NNP), (UNIFIED, NNP))</td>\n",
              "      <td>740676.211396</td>\n",
              "    </tr>\n",
              "    <tr>\n",
              "      <th>1</th>\n",
              "      <td>((Beauchaine, NNP), (bobbe, NN))</td>\n",
              "      <td>700336.473261</td>\n",
              "    </tr>\n",
              "    <tr>\n",
              "      <th>2</th>\n",
              "      <td>((sank, VBD), (Manhattan, NNP))</td>\n",
              "      <td>700336.473261</td>\n",
              "    </tr>\n",
              "    <tr>\n",
              "      <th>3</th>\n",
              "      <td>((MY, NNP), (REPLY, NNP))</td>\n",
              "      <td>602740.599843</td>\n",
              "    </tr>\n",
              "    <tr>\n",
              "      <th>4</th>\n",
              "      <td>((Dewey, NNP), (B., NNP))</td>\n",
              "      <td>587693.178963</td>\n",
              "    </tr>\n",
              "    <tr>\n",
              "      <th>5</th>\n",
              "      <td>((--, :), (--, :))</td>\n",
              "      <td>548069.418088</td>\n",
              "    </tr>\n",
              "    <tr>\n",
              "      <th>6</th>\n",
              "      <td>((United, NNP), (States, NNPS))</td>\n",
              "      <td>543905.734319</td>\n",
              "    </tr>\n",
              "    <tr>\n",
              "      <th>7</th>\n",
              "      <td>((Physicist, NNP), (Dewey, NNP))</td>\n",
              "      <td>522586.289388</td>\n",
              "    </tr>\n",
              "    <tr>\n",
              "      <th>8</th>\n",
              "      <td>((Air, NNP), (Force, NNP))</td>\n",
              "      <td>487376.613634</td>\n",
              "    </tr>\n",
              "    <tr>\n",
              "      <th>9</th>\n",
              "      <td>((61, CD), (275, CD))</td>\n",
              "      <td>456616.110843</td>\n",
              "    </tr>\n",
              "    <tr>\n",
              "      <th>10</th>\n",
              "      <td>((_/, NNP), (_/, NNP))</td>\n",
              "      <td>451744.411011</td>\n",
              "    </tr>\n",
              "    <tr>\n",
              "      <th>11</th>\n",
              "      <td>((*=, NNP), (t, NN))</td>\n",
              "      <td>440304.106634</td>\n",
              "    </tr>\n",
              "    <tr>\n",
              "      <th>12</th>\n",
              "      <td>((Resource, NNP), (Listing, NNP))</td>\n",
              "      <td>394510.559533</td>\n",
              "    </tr>\n",
              "    <tr>\n",
              "      <th>13</th>\n",
              "      <td>((San, NNP), (Jose, NNP))</td>\n",
              "      <td>376121.440197</td>\n",
              "    </tr>\n",
              "    <tr>\n",
              "      <th>14</th>\n",
              "      <td>((comprehensive, JJ), (GENERAL, NNP))</td>\n",
              "      <td>356962.983108</td>\n",
              "    </tr>\n",
              "    <tr>\n",
              "      <th>15</th>\n",
              "      <td>((no, RB), (longer, RB))</td>\n",
              "      <td>325527.194321</td>\n",
              "    </tr>\n",
              "    <tr>\n",
              "      <th>16</th>\n",
              "      <td>((Of, IN), (course, NN))</td>\n",
              "      <td>311626.147263</td>\n",
              "    </tr>\n",
              "    <tr>\n",
              "      <th>17</th>\n",
              "      <td>((Mary, NNP), (Shafer, NNP))</td>\n",
              "      <td>311320.454073</td>\n",
              "    </tr>\n",
              "    <tr>\n",
              "      <th>18</th>\n",
              "      <td>((Mr, NNP), (DeCenso, NNP))</td>\n",
              "      <td>286388.471293</td>\n",
              "    </tr>\n",
              "    <tr>\n",
              "      <th>19</th>\n",
              "      <td>((Oort, NNP), (cloud, NN))</td>\n",
              "      <td>276909.231124</td>\n",
              "    </tr>\n",
              "  </tbody>\n",
              "</table>\n",
              "</div>"
            ],
            "text/plain": [
              "                                   bigram         Chi-sq\n",
              "0        ((GENERAL, NNP), (UNIFIED, NNP))  740676.211396\n",
              "1        ((Beauchaine, NNP), (bobbe, NN))  700336.473261\n",
              "2         ((sank, VBD), (Manhattan, NNP))  700336.473261\n",
              "3               ((MY, NNP), (REPLY, NNP))  602740.599843\n",
              "4               ((Dewey, NNP), (B., NNP))  587693.178963\n",
              "5                      ((--, :), (--, :))  548069.418088\n",
              "6         ((United, NNP), (States, NNPS))  543905.734319\n",
              "7        ((Physicist, NNP), (Dewey, NNP))  522586.289388\n",
              "8              ((Air, NNP), (Force, NNP))  487376.613634\n",
              "9                   ((61, CD), (275, CD))  456616.110843\n",
              "10                 ((_/, NNP), (_/, NNP))  451744.411011\n",
              "11                   ((*=, NNP), (t, NN))  440304.106634\n",
              "12      ((Resource, NNP), (Listing, NNP))  394510.559533\n",
              "13              ((San, NNP), (Jose, NNP))  376121.440197\n",
              "14  ((comprehensive, JJ), (GENERAL, NNP))  356962.983108\n",
              "15               ((no, RB), (longer, RB))  325527.194321\n",
              "16               ((Of, IN), (course, NN))  311626.147263\n",
              "17           ((Mary, NNP), (Shafer, NNP))  311320.454073\n",
              "18            ((Mr, NNP), (DeCenso, NNP))  286388.471293\n",
              "19             ((Oort, NNP), (cloud, NN))  276909.231124"
            ]
          },
          "metadata": {
            "tags": []
          },
          "execution_count": 72
        }
      ]
    },
    {
      "cell_type": "code",
      "metadata": {
        "id": "aXjnJAKxOZVa",
        "colab_type": "code",
        "colab": {}
      },
      "source": [
        "overlap_df = pd.DataFrame([f2_bigram_freq_df[:20].bigram.values, bigram_pmi_df[:20].bigram.values, f1f2_bigram_ttest_df[:20].bigram.values, bigram_chisq_df[:20].bigram.values]).T\n",
        "overlap_df.columns=[\"Freq with filter\", \"PMI\", \"t-test\", \"chi-squared\"]"
      ],
      "execution_count": 0,
      "outputs": []
    },
    {
      "cell_type": "code",
      "metadata": {
        "id": "tI3RiMKXRSGO",
        "colab_type": "code",
        "outputId": "24bdef71-f23d-457c-e5d6-010ec051e73e",
        "colab": {
          "base_uri": "https://localhost:8080/",
          "height": 669
        }
      },
      "source": [
        "overlap_df"
      ],
      "execution_count": 0,
      "outputs": [
        {
          "output_type": "execute_result",
          "data": {
            "text/html": [
              "<div>\n",
              "<style scoped>\n",
              "    .dataframe tbody tr th:only-of-type {\n",
              "        vertical-align: middle;\n",
              "    }\n",
              "\n",
              "    .dataframe tbody tr th {\n",
              "        vertical-align: top;\n",
              "    }\n",
              "\n",
              "    .dataframe thead th {\n",
              "        text-align: right;\n",
              "    }\n",
              "</style>\n",
              "<table border=\"1\" class=\"dataframe\">\n",
              "  <thead>\n",
              "    <tr style=\"text-align: right;\">\n",
              "      <th></th>\n",
              "      <th>Freq with filter</th>\n",
              "      <th>PMI</th>\n",
              "      <th>t-test</th>\n",
              "      <th>chi-squared</th>\n",
              "    </tr>\n",
              "  </thead>\n",
              "  <tbody>\n",
              "    <tr>\n",
              "      <th>0</th>\n",
              "      <td>((image, NN), (processing, NN))</td>\n",
              "      <td>((Beauchaine, NNP), (bobbe, NN))</td>\n",
              "      <td>((image, NN), (processing, NN))</td>\n",
              "      <td>((GENERAL, NNP), (UNIFIED, NNP))</td>\n",
              "    </tr>\n",
              "    <tr>\n",
              "      <th>1</th>\n",
              "      <td>((source, NN), (code, NN))</td>\n",
              "      <td>((sank, VBD), (Manhattan, NNP))</td>\n",
              "      <td>((source, NN), (code, NN))</td>\n",
              "      <td>((Beauchaine, NNP), (bobbe, NN))</td>\n",
              "    </tr>\n",
              "    <tr>\n",
              "      <th>2</th>\n",
              "      <td>((New, NNP), (York, NNP))</td>\n",
              "      <td>((MY, NNP), (REPLY, NNP))</td>\n",
              "      <td>((New, NNP), (York, NNP))</td>\n",
              "      <td>((sank, VBD), (Manhattan, NNP))</td>\n",
              "    </tr>\n",
              "    <tr>\n",
              "      <th>3</th>\n",
              "      <td>((Jesus, NNP), (Christ, NNP))</td>\n",
              "      <td>((GENERAL, NNP), (UNIFIED, NNP))</td>\n",
              "      <td>((Jesus, NNP), (Christ, NNP))</td>\n",
              "      <td>((MY, NNP), (REPLY, NNP))</td>\n",
              "    </tr>\n",
              "    <tr>\n",
              "      <th>4</th>\n",
              "      <td>((anonymous, JJ), (FTP, NNP))</td>\n",
              "      <td>((61, CD), (275, CD))</td>\n",
              "      <td>((anonymous, JJ), (FTP, NNP))</td>\n",
              "      <td>((Dewey, NNP), (B., NNP))</td>\n",
              "    </tr>\n",
              "    <tr>\n",
              "      <th>5</th>\n",
              "      <td>((many, JJ), (people, NNS))</td>\n",
              "      <td>((Physicist, NNP), (Dewey, NNP))</td>\n",
              "      <td>((many, JJ), (people, NNS))</td>\n",
              "      <td>((--, :), (--, :))</td>\n",
              "    </tr>\n",
              "    <tr>\n",
              "      <th>6</th>\n",
              "      <td>((solar, JJ), (system, NN))</td>\n",
              "      <td>((Dewey, NNP), (B., NNP))</td>\n",
              "      <td>((solar, JJ), (system, NN))</td>\n",
              "      <td>((United, NNP), (States, NNPS))</td>\n",
              "    </tr>\n",
              "    <tr>\n",
              "      <th>7</th>\n",
              "      <td>((space, NN), (station, NN))</td>\n",
              "      <td>((Air, NNP), (Force, NNP))</td>\n",
              "      <td>((space, NN), (station, NN))</td>\n",
              "      <td>((Physicist, NNP), (Dewey, NNP))</td>\n",
              "    </tr>\n",
              "    <tr>\n",
              "      <th>8</th>\n",
              "      <td>((image, NN), (quality, NN))</td>\n",
              "      <td>((Resource, NNP), (Listing, NNP))</td>\n",
              "      <td>((image, NN), (quality, NN))</td>\n",
              "      <td>((Air, NNP), (Force, NNP))</td>\n",
              "    </tr>\n",
              "    <tr>\n",
              "      <th>9</th>\n",
              "      <td>((physical, JJ), (universe, NN))</td>\n",
              "      <td>((comprehensive, JJ), (GENERAL, NNP))</td>\n",
              "      <td>((physical, JJ), (universe, NN))</td>\n",
              "      <td>((61, CD), (275, CD))</td>\n",
              "    </tr>\n",
              "    <tr>\n",
              "      <th>10</th>\n",
              "      <td>((Space, NNP), (Shuttle, NNP))</td>\n",
              "      <td>((no, RB), (longer, RB))</td>\n",
              "      <td>((Space, NNP), (Shuttle, NNP))</td>\n",
              "      <td>((_/, NNP), (_/, NNP))</td>\n",
              "    </tr>\n",
              "    <tr>\n",
              "      <th>11</th>\n",
              "      <td>((United, NNP), (States, NNPS))</td>\n",
              "      <td>((*=, NNP), (t, NN))</td>\n",
              "      <td>((United, NNP), (States, NNPS))</td>\n",
              "      <td>((*=, NNP), (t, NN))</td>\n",
              "    </tr>\n",
              "    <tr>\n",
              "      <th>12</th>\n",
              "      <td>((_/, NNP), (_/, NNP))</td>\n",
              "      <td>((San, NNP), (Jose, NNP))</td>\n",
              "      <td>((_/, NNP), (_/, NNP))</td>\n",
              "      <td>((Resource, NNP), (Listing, NNP))</td>\n",
              "    </tr>\n",
              "    <tr>\n",
              "      <th>13</th>\n",
              "      <td>((file, NN), (format, NN))</td>\n",
              "      <td>((Mary, NNP), (Shafer, NNP))</td>\n",
              "      <td>((anonymous, JJ), (ftp, NN))</td>\n",
              "      <td>((San, NNP), (Jose, NNP))</td>\n",
              "    </tr>\n",
              "    <tr>\n",
              "      <th>14</th>\n",
              "      <td>((anonymous, JJ), (ftp, NN))</td>\n",
              "      <td>((United, NNP), (States, NNPS))</td>\n",
              "      <td>((file, NN), (format, NN))</td>\n",
              "      <td>((comprehensive, JJ), (GENERAL, NNP))</td>\n",
              "    </tr>\n",
              "    <tr>\n",
              "      <th>15</th>\n",
              "      <td>((Computer, NNP), (Graphics, NNP))</td>\n",
              "      <td>((arithmetic, JJ), (coding, NN))</td>\n",
              "      <td>((Computer, NNP), (Graphics, NNP))</td>\n",
              "      <td>((no, RB), (longer, RB))</td>\n",
              "    </tr>\n",
              "    <tr>\n",
              "      <th>16</th>\n",
              "      <td>((free, JJ), (JPEG, NNP))</td>\n",
              "      <td>((Mr, NNP), (DeCenso, NNP))</td>\n",
              "      <td>((current, JJ), (version, NN))</td>\n",
              "      <td>((Of, IN), (course, NN))</td>\n",
              "    </tr>\n",
              "    <tr>\n",
              "      <th>17</th>\n",
              "      <td>((current, JJ), (version, NN))</td>\n",
              "      <td>((Ames, NNP), (Dryden, NNP))</td>\n",
              "      <td>((free, JJ), (JPEG, NNP))</td>\n",
              "      <td>((Mary, NNP), (Shafer, NNP))</td>\n",
              "    </tr>\n",
              "    <tr>\n",
              "      <th>18</th>\n",
              "      <td>((JPEG, NNP), (software, NN))</td>\n",
              "      <td>((Oort, NNP), (cloud, NN))</td>\n",
              "      <td>((JPEG, NNP), (software, NN))</td>\n",
              "      <td>((Mr, NNP), (DeCenso, NNP))</td>\n",
              "    </tr>\n",
              "    <tr>\n",
              "      <th>19</th>\n",
              "      <td>((image, NN), (manipulation, NN))</td>\n",
              "      <td>((_/, NNP), (_/, NNP))</td>\n",
              "      <td>((image, NN), (manipulation, NN))</td>\n",
              "      <td>((Oort, NNP), (cloud, NN))</td>\n",
              "    </tr>\n",
              "  </tbody>\n",
              "</table>\n",
              "</div>"
            ],
            "text/plain": [
              "                      Freq with filter  ...                            chi-squared\n",
              "0      ((image, NN), (processing, NN))  ...       ((GENERAL, NNP), (UNIFIED, NNP))\n",
              "1           ((source, NN), (code, NN))  ...       ((Beauchaine, NNP), (bobbe, NN))\n",
              "2            ((New, NNP), (York, NNP))  ...        ((sank, VBD), (Manhattan, NNP))\n",
              "3        ((Jesus, NNP), (Christ, NNP))  ...              ((MY, NNP), (REPLY, NNP))\n",
              "4        ((anonymous, JJ), (FTP, NNP))  ...              ((Dewey, NNP), (B., NNP))\n",
              "5          ((many, JJ), (people, NNS))  ...                     ((--, :), (--, :))\n",
              "6          ((solar, JJ), (system, NN))  ...        ((United, NNP), (States, NNPS))\n",
              "7         ((space, NN), (station, NN))  ...       ((Physicist, NNP), (Dewey, NNP))\n",
              "8         ((image, NN), (quality, NN))  ...             ((Air, NNP), (Force, NNP))\n",
              "9     ((physical, JJ), (universe, NN))  ...                  ((61, CD), (275, CD))\n",
              "10      ((Space, NNP), (Shuttle, NNP))  ...                 ((_/, NNP), (_/, NNP))\n",
              "11     ((United, NNP), (States, NNPS))  ...                   ((*=, NNP), (t, NN))\n",
              "12              ((_/, NNP), (_/, NNP))  ...      ((Resource, NNP), (Listing, NNP))\n",
              "13          ((file, NN), (format, NN))  ...              ((San, NNP), (Jose, NNP))\n",
              "14        ((anonymous, JJ), (ftp, NN))  ...  ((comprehensive, JJ), (GENERAL, NNP))\n",
              "15  ((Computer, NNP), (Graphics, NNP))  ...               ((no, RB), (longer, RB))\n",
              "16           ((free, JJ), (JPEG, NNP))  ...               ((Of, IN), (course, NN))\n",
              "17      ((current, JJ), (version, NN))  ...           ((Mary, NNP), (Shafer, NNP))\n",
              "18       ((JPEG, NNP), (software, NN))  ...            ((Mr, NNP), (DeCenso, NNP))\n",
              "19   ((image, NN), (manipulation, NN))  ...             ((Oort, NNP), (cloud, NN))\n",
              "\n",
              "[20 rows x 4 columns]"
            ]
          },
          "metadata": {
            "tags": []
          },
          "execution_count": 74
        }
      ]
    },
    {
      "cell_type": "markdown",
      "metadata": {
        "id": "Zu9lu1b0J_JU",
        "colab_type": "text"
      },
      "source": [
        "## 1)c) \n",
        "\n",
        "### There is overlap between techniques like frequency with filter and t-test while the results are somewhat similar in PMI and chi-squared test. PMI and chi-squared test did not require filters and both of them produced credible results even without them. The degree of overlap between frequency with filter and t-test is very high and this is due to both these techniques giving significance to bigrams with higher frequency. This has also been influenced due to filtering of certain pos tags along with removing the stop words. Whereas in PMI, the bigrams that occur less frequently have much significance and thus it doesn't overlap with the other two techniques.\n",
        "\n",
        "### It does make sense to take union of the bigrams as it gives an overall idea about the important bigrams extracted using various techniques. There is variation in each technique and all of these variations can be covered by taking the union of results. For example, a technique like PMI gives importance to less frequent bigrams whereas a technique like frequency with filter is based on bigrams that occur more often. So, taking an union will help us cover all bases."
      ]
    },
    {
      "cell_type": "markdown",
      "metadata": {
        "id": "FGoO2Ts7z1lm",
        "colab_type": "text"
      },
      "source": [
        "## 2)a) Data Cleaning"
      ]
    },
    {
      "cell_type": "code",
      "metadata": {
        "id": "D94sccfi3QQM",
        "colab_type": "code",
        "colab": {}
      },
      "source": [
        "# Converting 4D to 2D\n",
        "unclean_tokens = tokenized_data"
      ],
      "execution_count": 0,
      "outputs": []
    },
    {
      "cell_type": "markdown",
      "metadata": {
        "id": "-77u3Bqs0MH_",
        "colab_type": "text"
      },
      "source": [
        "### Cleaning stopwords"
      ]
    },
    {
      "cell_type": "code",
      "metadata": {
        "id": "CNFvSJOz0LC-",
        "colab_type": "code",
        "colab": {}
      },
      "source": [
        "# Compiling a regex pattern out of stopwords\n",
        "stopwords_pattern = re.compile(r'\\b({})\\b'.format(\"|\".join(stopwords_list)), re.I)"
      ],
      "execution_count": 0,
      "outputs": []
    },
    {
      "cell_type": "markdown",
      "metadata": {
        "id": "SfcExpjitRnm",
        "colab_type": "text"
      },
      "source": [
        "### Function to remove stopwords"
      ]
    },
    {
      "cell_type": "code",
      "metadata": {
        "id": "fpCbSWFgubU9",
        "colab_type": "code",
        "colab": {}
      },
      "source": [
        "# Substitute stopwords with ''\n",
        "sub_stop_words = lambda x: stopwords_pattern.sub('', x)"
      ],
      "execution_count": 0,
      "outputs": []
    },
    {
      "cell_type": "code",
      "metadata": {
        "id": "62SK9qG3tU0u",
        "colab_type": "code",
        "colab": {}
      },
      "source": [
        "clean_stopwords = lambda unclean_tokens: [list(filter(lambda x:x,list(map(sub_stop_words, each_record)))) for each_record in unclean_tokens]"
      ],
      "execution_count": 0,
      "outputs": []
    },
    {
      "cell_type": "code",
      "metadata": {
        "id": "JCT42EAF7xYa",
        "colab_type": "code",
        "colab": {}
      },
      "source": [
        "unclean_tokens = clean_stopwords(unclean_tokens)"
      ],
      "execution_count": 0,
      "outputs": []
    },
    {
      "cell_type": "markdown",
      "metadata": {
        "id": "bBsDUAmTEII_",
        "colab_type": "text"
      },
      "source": [
        "### Cleaning numbers and non-alphabet letters"
      ]
    },
    {
      "cell_type": "code",
      "metadata": {
        "id": "aYrLWIuR-uaP",
        "colab_type": "code",
        "colab": {}
      },
      "source": [
        "# Compiling a regex pattern to detect anything other than non-alphabets\n",
        "non_alpha_pattern = re.compile(r'[^a-zA-Z\\s]')"
      ],
      "execution_count": 0,
      "outputs": []
    },
    {
      "cell_type": "markdown",
      "metadata": {
        "id": "184QDboowOFd",
        "colab_type": "text"
      },
      "source": [
        "### Function to remove non alphabets and numbers"
      ]
    },
    {
      "cell_type": "code",
      "metadata": {
        "id": "mVrjyTFKwREX",
        "colab_type": "code",
        "colab": {}
      },
      "source": [
        "# Substitute non alphabets with ''\n",
        "sub_non_alphabets = lambda x: non_alpha_pattern.sub('', x)"
      ],
      "execution_count": 0,
      "outputs": []
    },
    {
      "cell_type": "code",
      "metadata": {
        "id": "-jf5FDTruCE9",
        "colab_type": "code",
        "colab": {}
      },
      "source": [
        "clean_non_alphabets = lambda unclean_tokens: [list(filter(lambda x:x,list(map(sub_non_alphabets, each_record)))) for each_record in unclean_tokens]"
      ],
      "execution_count": 0,
      "outputs": []
    },
    {
      "cell_type": "code",
      "metadata": {
        "id": "KpKsthCOEl70",
        "colab_type": "code",
        "colab": {}
      },
      "source": [
        "unclean_tokens = clean_non_alphabets(unclean_tokens)"
      ],
      "execution_count": 0,
      "outputs": []
    },
    {
      "cell_type": "markdown",
      "metadata": {
        "id": "0iRFD3exF8B8",
        "colab_type": "text"
      },
      "source": [
        "### Stemming of words"
      ]
    },
    {
      "cell_type": "code",
      "metadata": {
        "id": "H2-EegIRHrko",
        "colab_type": "code",
        "colab": {}
      },
      "source": [
        "# Creating object for stemmer\n",
        "stemmer = PorterStemmer()"
      ],
      "execution_count": 0,
      "outputs": []
    },
    {
      "cell_type": "code",
      "metadata": {
        "id": "vLSCtjV9Ex3J",
        "colab_type": "code",
        "colab": {}
      },
      "source": [
        "# Function to stem the words\n",
        "stemmer_fn = lambda word: stemmer.stem(word)"
      ],
      "execution_count": 0,
      "outputs": []
    },
    {
      "cell_type": "code",
      "metadata": {
        "id": "9-noENdXxEyj",
        "colab_type": "code",
        "colab": {}
      },
      "source": [
        "stem_words = lambda unclean_tokens: [list(map(stemmer_fn, each_record)) for each_record in unclean_tokens]"
      ],
      "execution_count": 0,
      "outputs": []
    },
    {
      "cell_type": "code",
      "metadata": {
        "id": "RQa3jMxDxBNc",
        "colab_type": "code",
        "colab": {}
      },
      "source": [
        "clean_tokens = stem_words(unclean_tokens)"
      ],
      "execution_count": 0,
      "outputs": []
    },
    {
      "cell_type": "markdown",
      "metadata": {
        "id": "BVQVLIvXMxp3",
        "colab_type": "text"
      },
      "source": [
        "## 2)b) Conversion of the entire corpus into bag of words"
      ]
    },
    {
      "cell_type": "code",
      "metadata": {
        "id": "Wxcg5RB9Pg1r",
        "colab_type": "code",
        "colab": {}
      },
      "source": [
        "# Converting 2D to 1D\n",
        "clean_tokens = list(map(lambda x: \" \".join(x), clean_tokens))"
      ],
      "execution_count": 0,
      "outputs": []
    },
    {
      "cell_type": "code",
      "metadata": {
        "id": "XSRNG_KhJgDC",
        "colab_type": "code",
        "colab": {}
      },
      "source": [
        "count_vectorizer = CountVectorizer()\n",
        "\n",
        "# Creating a bag of words model\n",
        "bag_of_words = count_vectorizer.fit_transform(clean_tokens)\n",
        "\n",
        "# Converting to bag of words to array\n",
        "counts = bag_of_words.toarray()"
      ],
      "execution_count": 0,
      "outputs": []
    },
    {
      "cell_type": "markdown",
      "metadata": {
        "id": "YYfm-7X1X-JN",
        "colab_type": "text"
      },
      "source": [
        "### Performing Tf-Idf operation"
      ]
    },
    {
      "cell_type": "code",
      "metadata": {
        "id": "XWpnp8nHWgF4",
        "colab_type": "code",
        "outputId": "46fcc259-e818-48a3-eddf-5fc617ed68b8",
        "colab": {
          "base_uri": "https://localhost:8080/",
          "height": 136
        }
      },
      "source": [
        "tfidf_transformer = TfidfTransformer()\n",
        "\n",
        "# Creating a tf-idf model\n",
        "tfidf_scores = tfidf_transformer.fit_transform(counts)\n",
        "tfidf_scores.toarray()"
      ],
      "execution_count": 0,
      "outputs": [
        {
          "output_type": "execute_result",
          "data": {
            "text/plain": [
              "array([[0., 0., 0., ..., 0., 0., 0.],\n",
              "       [0., 0., 0., ..., 0., 0., 0.],\n",
              "       [0., 0., 0., ..., 0., 0., 0.],\n",
              "       ...,\n",
              "       [0., 0., 0., ..., 0., 0., 0.],\n",
              "       [0., 0., 0., ..., 0., 0., 0.],\n",
              "       [0., 0., 0., ..., 0., 0., 0.]])"
            ]
          },
          "metadata": {
            "tags": []
          },
          "execution_count": 90
        }
      ]
    },
    {
      "cell_type": "markdown",
      "metadata": {
        "id": "UMyksXLJLBVG",
        "colab_type": "text"
      },
      "source": [
        "## 2)c) Splitting data into train and test"
      ]
    },
    {
      "cell_type": "code",
      "metadata": {
        "id": "tbT5S4S8YIgX",
        "colab_type": "code",
        "colab": {}
      },
      "source": [
        "X_train, X_test, y_train, y_test = train_test_split(tfidf_scores, news_dataset.target, test_size=0.3)"
      ],
      "execution_count": 0,
      "outputs": []
    },
    {
      "cell_type": "code",
      "metadata": {
        "id": "CTthwcabEcUH",
        "colab_type": "code",
        "outputId": "e392973f-cb7e-48e4-9395-8bd24a81a1da",
        "colab": {
          "base_uri": "https://localhost:8080/",
          "height": 128
        }
      },
      "source": [
        "print(f\"Start time: {datetime.datetime.now()}\")\n",
        "# SVC\n",
        "svc_parameters = {'gamma':['auto', 'scale'], 'kernel':['rbf','poly','linear']}\n",
        "svc_gsc = GridSearchCV(estimator=SVC(), param_grid=svc_parameters,\n",
        "                       scoring='r2', cv=8, n_jobs=-1)\n",
        "grid_result = svc_gsc.fit(X_train, y_train)\n",
        "svc_best_params = grid_result.best_params_\n",
        "print(f\"End time: {datetime.datetime.now()}\")\n",
        "svc_best_params"
      ],
      "execution_count": 0,
      "outputs": [
        {
          "output_type": "stream",
          "text": [
            "Start time: 2019-07-17 18:33:35.819736\n"
          ],
          "name": "stdout"
        },
        {
          "output_type": "stream",
          "text": [
            "/usr/local/lib/python3.6/dist-packages/sklearn/model_selection/_search.py:813: DeprecationWarning: The default of the `iid` parameter will change from True to False in version 0.22 and will be removed in 0.24. This will change numeric results when test-set sizes are unequal.\n",
            "  DeprecationWarning)\n"
          ],
          "name": "stderr"
        },
        {
          "output_type": "stream",
          "text": [
            "End time: 2019-07-17 18:35:06.456047\n"
          ],
          "name": "stdout"
        },
        {
          "output_type": "execute_result",
          "data": {
            "text/plain": [
              "{'gamma': 'auto', 'kernel': 'linear'}"
            ]
          },
          "metadata": {
            "tags": []
          },
          "execution_count": 124
        }
      ]
    },
    {
      "cell_type": "markdown",
      "metadata": {
        "id": "auvFpzvNQj8H",
        "colab_type": "text"
      },
      "source": [
        "### Using gridsearch, we have found the hyperparameters that suit the SVC. The kernel we have used initially is \"linear\""
      ]
    },
    {
      "cell_type": "markdown",
      "metadata": {
        "id": "wN_NE5guL47w",
        "colab_type": "text"
      },
      "source": [
        "### Training SVM classifier"
      ]
    },
    {
      "cell_type": "code",
      "metadata": {
        "id": "3FBqvJFkK_rU",
        "colab_type": "code",
        "colab": {}
      },
      "source": [
        "svm_classifier = SVC(gamma=\"auto\", kernel=\"linear\")"
      ],
      "execution_count": 0,
      "outputs": []
    },
    {
      "cell_type": "code",
      "metadata": {
        "id": "criAWfg1MlSj",
        "colab_type": "code",
        "outputId": "ff2a3297-1054-4b20-8ef5-20ad87c7241a",
        "colab": {
          "base_uri": "https://localhost:8080/",
          "height": 85
        }
      },
      "source": [
        "# Training\n",
        "svm_classifier.fit(X_train, y_train)"
      ],
      "execution_count": 0,
      "outputs": [
        {
          "output_type": "execute_result",
          "data": {
            "text/plain": [
              "SVC(C=1.0, cache_size=200, class_weight=None, coef0=0.0,\n",
              "    decision_function_shape='ovr', degree=3, gamma='auto', kernel='linear',\n",
              "    max_iter=-1, probability=False, random_state=None, shrinking=True,\n",
              "    tol=0.001, verbose=False)"
            ]
          },
          "metadata": {
            "tags": []
          },
          "execution_count": 181
        }
      ]
    },
    {
      "cell_type": "code",
      "metadata": {
        "id": "h6npBKhsM0bL",
        "colab_type": "code",
        "colab": {}
      },
      "source": [
        "# Predictions\n",
        "y_svm_pred = svm_classifier.predict(X_test)"
      ],
      "execution_count": 0,
      "outputs": []
    },
    {
      "cell_type": "markdown",
      "metadata": {
        "id": "teTZssFoLtVx",
        "colab_type": "text"
      },
      "source": [
        "### Classification report for SVC"
      ]
    },
    {
      "cell_type": "code",
      "metadata": {
        "id": "QXD_6B_HLnyB",
        "colab_type": "code",
        "outputId": "10bdb779-9054-4af6-d66e-c8a2562c4354",
        "colab": {
          "base_uri": "https://localhost:8080/",
          "height": 204
        }
      },
      "source": [
        "print(classification_report(y_test, y_svm_pred))"
      ],
      "execution_count": 0,
      "outputs": [
        {
          "output_type": "stream",
          "text": [
            "              precision    recall  f1-score   support\n",
            "\n",
            "           0       0.72      0.72      0.72       226\n",
            "           1       0.92      0.89      0.90       289\n",
            "           2       0.80      0.91      0.85       312\n",
            "           3       0.77      0.62      0.69       190\n",
            "\n",
            "    accuracy                           0.81      1017\n",
            "   macro avg       0.80      0.79      0.79      1017\n",
            "weighted avg       0.81      0.81      0.81      1017\n",
            "\n"
          ],
          "name": "stdout"
        }
      ]
    },
    {
      "cell_type": "markdown",
      "metadata": {
        "id": "DQfQ2Dg4Txp4",
        "colab_type": "text"
      },
      "source": [
        "### Confusion matrix for SVC"
      ]
    },
    {
      "cell_type": "code",
      "metadata": {
        "id": "9OY-ubaJNOs4",
        "colab_type": "code",
        "outputId": "d3b1a112-6d08-4cad-8b7b-700470459e98",
        "colab": {
          "base_uri": "https://localhost:8080/",
          "height": 85
        }
      },
      "source": [
        "cf = confusion_matrix(y_test, y_svm_pred)\n",
        "cf"
      ],
      "execution_count": 0,
      "outputs": [
        {
          "output_type": "execute_result",
          "data": {
            "text/plain": [
              "array([[163,   3,  29,  31],\n",
              "       [  8, 256,  24,   1],\n",
              "       [ 11,  12, 285,   4],\n",
              "       [ 45,   7,  20, 118]])"
            ]
          },
          "metadata": {
            "tags": []
          },
          "execution_count": 184
        }
      ]
    },
    {
      "cell_type": "markdown",
      "metadata": {
        "id": "WUlCHHoTVnQt",
        "colab_type": "text"
      },
      "source": [
        "### Heatmap for Confusion matrix"
      ]
    },
    {
      "cell_type": "code",
      "metadata": {
        "id": "zueWSb-JVSaF",
        "colab_type": "code",
        "outputId": "65a2993a-1e0d-4738-86db-69636d2b75ee",
        "colab": {
          "base_uri": "https://localhost:8080/",
          "height": 286
        }
      },
      "source": [
        "sns.heatmap(cf, annot=True)"
      ],
      "execution_count": 0,
      "outputs": [
        {
          "output_type": "execute_result",
          "data": {
            "text/plain": [
              "<matplotlib.axes._subplots.AxesSubplot at 0x7fa516f20470>"
            ]
          },
          "metadata": {
            "tags": []
          },
          "execution_count": 187
        },
        {
          "output_type": "display_data",
          "data": {
            "image/png": "[encoded data removed]",
            "text/plain": [
              "<Figure size 432x288 with 2 Axes>"
            ]
          },
          "metadata": {
            "tags": []
          }
        }
      ]
    },
    {
      "cell_type": "markdown",
      "metadata": {
        "id": "1iGQncNlVjcO",
        "colab_type": "text"
      },
      "source": [
        "### Training MultinomialNB classifier"
      ]
    },
    {
      "cell_type": "code",
      "metadata": {
        "id": "RdvAcrjnNF6R",
        "colab_type": "code",
        "outputId": "d5e511c8-2dee-477f-a60b-840433c64aa9",
        "colab": {
          "base_uri": "https://localhost:8080/",
          "height": 122
        }
      },
      "source": [
        "print(f\"Start time: {datetime.datetime.now()}\")\n",
        "# Random Forest Regressor\n",
        "mnb_parameters = {'alpha':[0.1, 1], 'fit_prior':[True, False]}\n",
        "mnb_gsc = GridSearchCV(estimator=MultinomialNB(), param_grid=mnb_parameters,\n",
        "                       scoring='r2', cv=8, n_jobs=-1)\n",
        "grid_result = mnb_gsc.fit(X_train, y_train)\n",
        "mnb_best_params = grid_result.best_params_\n",
        "print(f\"End time: {datetime.datetime.now()}\")\n",
        "mnb_best_params"
      ],
      "execution_count": 0,
      "outputs": [
        {
          "output_type": "stream",
          "text": [
            "Start time: 2019-07-17 18:35:25.261219\n",
            "End time: 2019-07-17 18:35:25.480070\n"
          ],
          "name": "stdout"
        },
        {
          "output_type": "stream",
          "text": [
            "/usr/local/lib/python3.6/dist-packages/sklearn/model_selection/_search.py:813: DeprecationWarning: The default of the `iid` parameter will change from True to False in version 0.22 and will be removed in 0.24. This will change numeric results when test-set sizes are unequal.\n",
            "  DeprecationWarning)\n"
          ],
          "name": "stderr"
        },
        {
          "output_type": "execute_result",
          "data": {
            "text/plain": [
              "{'alpha': 0.1, 'fit_prior': True}"
            ]
          },
          "metadata": {
            "tags": []
          },
          "execution_count": 130
        }
      ]
    },
    {
      "cell_type": "markdown",
      "metadata": {
        "id": "-9wSuTwSboB4",
        "colab_type": "text"
      },
      "source": [
        "### Using gridsearch, we have determined the initial paramters for MultinomialNB as well."
      ]
    },
    {
      "cell_type": "code",
      "metadata": {
        "id": "rOFpbedYUBEP",
        "colab_type": "code",
        "colab": {}
      },
      "source": [
        "mnb_classifier = MultinomialNB(alpha=0.1, fit_prior=True)"
      ],
      "execution_count": 0,
      "outputs": []
    },
    {
      "cell_type": "code",
      "metadata": {
        "id": "kQXrmy_QVu8T",
        "colab_type": "code",
        "outputId": "438ab61e-8378-4599-9417-59fa3dd43ef1",
        "colab": {
          "base_uri": "https://localhost:8080/",
          "height": 34
        }
      },
      "source": [
        "mnb_classifier.fit(X_train, y_train)"
      ],
      "execution_count": 0,
      "outputs": [
        {
          "output_type": "execute_result",
          "data": {
            "text/plain": [
              "MultinomialNB(alpha=0.1, class_prior=None, fit_prior=True)"
            ]
          },
          "metadata": {
            "tags": []
          },
          "execution_count": 189
        }
      ]
    },
    {
      "cell_type": "code",
      "metadata": {
        "id": "qWarThfEVyRs",
        "colab_type": "code",
        "colab": {}
      },
      "source": [
        "y_mnb_preds = mnb_classifier.predict(X_test)"
      ],
      "execution_count": 0,
      "outputs": []
    },
    {
      "cell_type": "markdown",
      "metadata": {
        "id": "Uoo1k0BDMARf",
        "colab_type": "text"
      },
      "source": [
        "### Classification report for MultinomialNB"
      ]
    },
    {
      "cell_type": "code",
      "metadata": {
        "colab_type": "code",
        "outputId": "ce519536-99a2-4363-a15b-68f714ca73ea",
        "id": "8ZK7SVQ5L_jP",
        "colab": {
          "base_uri": "https://localhost:8080/",
          "height": 204
        }
      },
      "source": [
        "print(classification_report(y_test, y_mnb_preds))"
      ],
      "execution_count": 0,
      "outputs": [
        {
          "output_type": "stream",
          "text": [
            "              precision    recall  f1-score   support\n",
            "\n",
            "           0       0.72      0.80      0.76       226\n",
            "           1       0.84      0.93      0.89       289\n",
            "           2       0.91      0.88      0.89       312\n",
            "           3       0.81      0.62      0.70       190\n",
            "\n",
            "    accuracy                           0.83      1017\n",
            "   macro avg       0.82      0.81      0.81      1017\n",
            "weighted avg       0.83      0.83      0.82      1017\n",
            "\n"
          ],
          "name": "stdout"
        }
      ]
    },
    {
      "cell_type": "markdown",
      "metadata": {
        "id": "_cAerN8cV5t3",
        "colab_type": "text"
      },
      "source": [
        "### Confusion matrix for MultinomialNB"
      ]
    },
    {
      "cell_type": "code",
      "metadata": {
        "id": "Qeq13TDSV4lr",
        "colab_type": "code",
        "outputId": "6760c8af-2f6c-4313-c41c-ded5f6ba18f0",
        "colab": {
          "base_uri": "https://localhost:8080/",
          "height": 85
        }
      },
      "source": [
        "cf = confusion_matrix(y_test, y_mnb_preds)\n",
        "cf"
      ],
      "execution_count": 0,
      "outputs": [
        {
          "output_type": "execute_result",
          "data": {
            "text/plain": [
              "array([[181,  13,  12,  20],\n",
              "       [  4, 270,  10,   5],\n",
              "       [ 13,  24, 273,   2],\n",
              "       [ 54,  13,   6, 117]])"
            ]
          },
          "metadata": {
            "tags": []
          },
          "execution_count": 192
        }
      ]
    },
    {
      "cell_type": "markdown",
      "metadata": {
        "colab_type": "text",
        "id": "Kd9VAh47V2NE"
      },
      "source": [
        "### Heatmap for Confusion matrix"
      ]
    },
    {
      "cell_type": "code",
      "metadata": {
        "colab_type": "code",
        "outputId": "98e3c330-2525-402e-92f4-6ecf7a20e76c",
        "id": "MAnKldsgV2NF",
        "colab": {
          "base_uri": "https://localhost:8080/",
          "height": 286
        }
      },
      "source": [
        "sns.heatmap(cf, annot=True)"
      ],
      "execution_count": 0,
      "outputs": [
        {
          "output_type": "execute_result",
          "data": {
            "text/plain": [
              "<matplotlib.axes._subplots.AxesSubplot at 0x7fa5164efdd8>"
            ]
          },
          "metadata": {
            "tags": []
          },
          "execution_count": 193
        },
        {
          "output_type": "display_data",
          "data": {
            "image/png": "[encoded data removed]",
            "text/plain": [
              "<Figure size 432x288 with 2 Axes>"
            ]
          },
          "metadata": {
            "tags": []
          }
        }
      ]
    },
    {
      "cell_type": "markdown",
      "metadata": {
        "id": "5GjuLDoVavE7",
        "colab_type": "text"
      },
      "source": [
        "### Changing kernel of SVC to rbf"
      ]
    },
    {
      "cell_type": "code",
      "metadata": {
        "id": "5iTtYAzfV9kj",
        "colab_type": "code",
        "colab": {}
      },
      "source": [
        "svm_classifier = SVC(gamma='auto', kernel='rbf')"
      ],
      "execution_count": 0,
      "outputs": []
    },
    {
      "cell_type": "code",
      "metadata": {
        "id": "kb__PZOVa9m3",
        "colab_type": "code",
        "outputId": "f5f3031d-c3f7-424c-c29a-1613204dc4a6",
        "colab": {
          "base_uri": "https://localhost:8080/",
          "height": 85
        }
      },
      "source": [
        "# Training\n",
        "svm_classifier.fit(X_train, y_train)"
      ],
      "execution_count": 0,
      "outputs": [
        {
          "output_type": "execute_result",
          "data": {
            "text/plain": [
              "SVC(C=1.0, cache_size=200, class_weight=None, coef0=0.0,\n",
              "    decision_function_shape='ovr', degree=3, gamma='auto', kernel='rbf',\n",
              "    max_iter=-1, probability=False, random_state=None, shrinking=True,\n",
              "    tol=0.001, verbose=False)"
            ]
          },
          "metadata": {
            "tags": []
          },
          "execution_count": 195
        }
      ]
    },
    {
      "cell_type": "code",
      "metadata": {
        "id": "FBUkSER0bCnk",
        "colab_type": "code",
        "colab": {}
      },
      "source": [
        "# Predictions\n",
        "y_svm_pred = svm_classifier.predict(X_test)"
      ],
      "execution_count": 0,
      "outputs": []
    },
    {
      "cell_type": "markdown",
      "metadata": {
        "id": "xegvdOLIRH30",
        "colab_type": "text"
      },
      "source": [
        "### Classification report for SVC"
      ]
    },
    {
      "cell_type": "code",
      "metadata": {
        "colab_type": "code",
        "outputId": "11dda746-fa81-4280-f5d0-d5176448dfd1",
        "id": "NOrqjUhsREHD",
        "colab": {
          "base_uri": "https://localhost:8080/",
          "height": 278
        }
      },
      "source": [
        "print(classification_report(y_test, y_svm_pred))"
      ],
      "execution_count": 0,
      "outputs": [
        {
          "output_type": "stream",
          "text": [
            "              precision    recall  f1-score   support\n",
            "\n",
            "           0       0.00      0.00      0.00       226\n",
            "           1       0.28      1.00      0.44       289\n",
            "           2       0.00      0.00      0.00       312\n",
            "           3       0.00      0.00      0.00       190\n",
            "\n",
            "    accuracy                           0.28      1017\n",
            "   macro avg       0.07      0.25      0.11      1017\n",
            "weighted avg       0.08      0.28      0.13      1017\n",
            "\n"
          ],
          "name": "stdout"
        },
        {
          "output_type": "stream",
          "text": [
            "/usr/local/lib/python3.6/dist-packages/sklearn/metrics/classification.py:1437: UndefinedMetricWarning: Precision and F-score are ill-defined and being set to 0.0 in labels with no predicted samples.\n",
            "  'precision', 'predicted', average, warn_for)\n"
          ],
          "name": "stderr"
        }
      ]
    },
    {
      "cell_type": "markdown",
      "metadata": {
        "id": "C5vplmxrbsJC",
        "colab_type": "text"
      },
      "source": [
        "### Confusion matrix for SVC after changing kernel to rbf"
      ]
    },
    {
      "cell_type": "code",
      "metadata": {
        "id": "CRW5pWvQbFzO",
        "colab_type": "code",
        "outputId": "a4f22b54-8d9f-4ab9-e321-519ee52060db",
        "colab": {
          "base_uri": "https://localhost:8080/",
          "height": 85
        }
      },
      "source": [
        "cf = confusion_matrix(y_test, y_svm_pred)\n",
        "cf"
      ],
      "execution_count": 0,
      "outputs": [
        {
          "output_type": "execute_result",
          "data": {
            "text/plain": [
              "array([[  0, 226,   0,   0],\n",
              "       [  0, 289,   0,   0],\n",
              "       [  0, 312,   0,   0],\n",
              "       [  0, 190,   0,   0]])"
            ]
          },
          "metadata": {
            "tags": []
          },
          "execution_count": 198
        }
      ]
    },
    {
      "cell_type": "markdown",
      "metadata": {
        "colab_type": "text",
        "id": "a9inFJbvWKhQ"
      },
      "source": [
        "### Heatmap for Confusion matrix"
      ]
    },
    {
      "cell_type": "code",
      "metadata": {
        "colab_type": "code",
        "outputId": "b9d9a111-e9f7-4385-d22e-073431f81043",
        "id": "UgmiB8UnWKhR",
        "colab": {
          "base_uri": "https://localhost:8080/",
          "height": 286
        }
      },
      "source": [
        "sns.heatmap(cf, annot=True)"
      ],
      "execution_count": 0,
      "outputs": [
        {
          "output_type": "execute_result",
          "data": {
            "text/plain": [
              "<matplotlib.axes._subplots.AxesSubplot at 0x7fa516a592e8>"
            ]
          },
          "metadata": {
            "tags": []
          },
          "execution_count": 199
        },
        {
          "output_type": "display_data",
          "data": {
            "image/png": "[encoded data removed]",
            "text/plain": [
              "<Figure size 432x288 with 2 Axes>"
            ]
          },
          "metadata": {
            "tags": []
          }
        }
      ]
    },
    {
      "cell_type": "markdown",
      "metadata": {
        "id": "NOmCB1k0Smy5",
        "colab_type": "text"
      },
      "source": [
        "### Which algo has higher accuracy and why?\n",
        "\n",
        "### MultinomialNB has higher accuracy(83%) than SVM classifier because Naive Bayes has the tendency to handle sparse data problems well. The data with too many dimensions due to tf-idf has a lot of zeroes and the data is sparse. While in SVM classifier (81%), the linear kernel function gave decent accuracy while rbf(28%) didn't seem to suit this particular problem as the model's performance was too low.\n",
        "\n",
        "### Changing the kernel of SVM and its effects: -> (A)\n",
        "\n",
        "- The kernel function is generally used by linear classifiers to tailor to non-linear data by mapping them to higher dimensions. \n",
        "- In this case, changing the kernel function from linear to rbf produced inaccurate results.\n",
        "- The linear kernel function worked really well because the data seems to be linearly separable. \n",
        "- The rbf kernel's complexity generally tends to increase with dimensions and the tfidf generally introduces a lot of dimensions because of the unique features across the corpus.\n",
        "- Generally, if the number of features(dimensions) after applying Tfidf is already high, it is not necessary to map them to a higher dimensional space using rbf kernel function and the linear kernel is good enough. \n",
        "- Thus, as a result of changing the kernel to rbf function, the confusion between the classes increased and only a plenty of results were misclassified."
      ]
    },
    {
      "cell_type": "markdown",
      "metadata": {
        "id": "1RTpCh4zseqv",
        "colab_type": "text"
      },
      "source": [
        "## 2)d) SVM classifier and MultinomailNB on data with nouns only"
      ]
    },
    {
      "cell_type": "code",
      "metadata": {
        "id": "D0En8TXAzCF-",
        "colab_type": "code",
        "colab": {}
      },
      "source": [
        "# Function to filter noun tags only\n",
        "filter_nouns = lambda token: token[0] if token[1] in noun_abbr else \"\""
      ],
      "execution_count": 0,
      "outputs": []
    },
    {
      "cell_type": "code",
      "metadata": {
        "id": "L4praXo1mSas",
        "colab_type": "code",
        "colab": {}
      },
      "source": [
        "get_noun_tokens = lambda tokens: [list(filter(lambda x:x, list(map(filter_nouns, each_record)))) for each_record in tokens]"
      ],
      "execution_count": 0,
      "outputs": []
    },
    {
      "cell_type": "code",
      "metadata": {
        "id": "iC5d0syc0WoB",
        "colab_type": "code",
        "colab": {}
      },
      "source": [
        "clean_tokens_nn = get_noun_tokens(tokens_with_pos)"
      ],
      "execution_count": 0,
      "outputs": []
    },
    {
      "cell_type": "markdown",
      "metadata": {
        "id": "RzEW7th35azD",
        "colab_type": "text"
      },
      "source": [
        "### Data cleaning"
      ]
    },
    {
      "cell_type": "code",
      "metadata": {
        "id": "3kPdAPXt5dbq",
        "colab_type": "code",
        "colab": {}
      },
      "source": [
        "# clean stopwords\n",
        "clean_tokens_nn = clean_stopwords(clean_tokens_nn)\n",
        "# clean numbers and non alphabets\n",
        "clean_tokens_nn = clean_non_alphabets(clean_tokens_nn)\n",
        "# stem words\n",
        "clean_tokens_nn = stem_words(clean_tokens_nn)"
      ],
      "execution_count": 0,
      "outputs": []
    },
    {
      "cell_type": "code",
      "metadata": {
        "colab_type": "code",
        "id": "VYRcsu971UIR",
        "colab": {}
      },
      "source": [
        "# Converting 2D to 1D\n",
        "clean_tokens_nn = list(map(lambda x: \" \".join(x), clean_tokens_nn))"
      ],
      "execution_count": 0,
      "outputs": []
    },
    {
      "cell_type": "code",
      "metadata": {
        "colab_type": "code",
        "id": "r_WXQbUy1UIU",
        "colab": {}
      },
      "source": [
        "count_vectorizer_nn = CountVectorizer()\n",
        "\n",
        "# Creating a bag of words model\n",
        "bag_of_words = count_vectorizer_nn.fit_transform(clean_tokens_nn)\n",
        "\n",
        "# Converting to bag of words to array\n",
        "counts = bag_of_words.toarray()"
      ],
      "execution_count": 0,
      "outputs": []
    },
    {
      "cell_type": "markdown",
      "metadata": {
        "colab_type": "text",
        "id": "OuHm6Izh1UIW"
      },
      "source": [
        "### Performing Tf-Idf operation"
      ]
    },
    {
      "cell_type": "code",
      "metadata": {
        "colab_type": "code",
        "outputId": "309e76ca-4eba-46a4-ffa1-1dcc7b97591b",
        "id": "feXhh7Ql1UIW",
        "colab": {
          "base_uri": "https://localhost:8080/",
          "height": 136
        }
      },
      "source": [
        "tfidf_transformer = TfidfTransformer()\n",
        "\n",
        "# Creating a tf-idf model\n",
        "tfidf_scores = tfidf_transformer.fit_transform(counts)\n",
        "tfidf_scores.toarray()"
      ],
      "execution_count": 0,
      "outputs": [
        {
          "output_type": "execute_result",
          "data": {
            "text/plain": [
              "array([[0., 0., 0., ..., 0., 0., 0.],\n",
              "       [0., 0., 0., ..., 0., 0., 0.],\n",
              "       [0., 0., 0., ..., 0., 0., 0.],\n",
              "       ...,\n",
              "       [0., 0., 0., ..., 0., 0., 0.],\n",
              "       [0., 0., 0., ..., 0., 0., 0.],\n",
              "       [0., 0., 0., ..., 0., 0., 0.]])"
            ]
          },
          "metadata": {
            "tags": []
          },
          "execution_count": 151
        }
      ]
    },
    {
      "cell_type": "code",
      "metadata": {
        "id": "JH5z8EjJ0_O6",
        "colab_type": "code",
        "colab": {}
      },
      "source": [
        "X_train, X_test, y_train, y_test = train_test_split(tfidf_scores, news_dataset.target, test_size=0.3)"
      ],
      "execution_count": 0,
      "outputs": []
    },
    {
      "cell_type": "markdown",
      "metadata": {
        "id": "LiqBurLy006w",
        "colab_type": "text"
      },
      "source": [
        "### Training SVM Classifier"
      ]
    },
    {
      "cell_type": "code",
      "metadata": {
        "colab_type": "code",
        "id": "peGR6Qi_0vX1",
        "colab": {}
      },
      "source": [
        "svm_classifier = SVC(gamma=\"auto\", kernel=\"linear\")"
      ],
      "execution_count": 0,
      "outputs": []
    },
    {
      "cell_type": "code",
      "metadata": {
        "colab_type": "code",
        "outputId": "3a152e21-3ab0-4d5a-8ed5-a5e993e4fd47",
        "id": "gq_PxsSw0vX5",
        "colab": {
          "base_uri": "https://localhost:8080/",
          "height": 85
        }
      },
      "source": [
        "# Training\n",
        "svm_classifier.fit(X_train, y_train)"
      ],
      "execution_count": 0,
      "outputs": [
        {
          "output_type": "execute_result",
          "data": {
            "text/plain": [
              "SVC(C=1.0, cache_size=200, class_weight=None, coef0=0.0,\n",
              "    decision_function_shape='ovr', degree=3, gamma='auto', kernel='linear',\n",
              "    max_iter=-1, probability=False, random_state=None, shrinking=True,\n",
              "    tol=0.001, verbose=False)"
            ]
          },
          "metadata": {
            "tags": []
          },
          "execution_count": 201
        }
      ]
    },
    {
      "cell_type": "code",
      "metadata": {
        "colab_type": "code",
        "id": "8NqQmPmW0vX_",
        "colab": {}
      },
      "source": [
        "# Predictions\n",
        "y_svm_pred = svm_classifier.predict(X_test)"
      ],
      "execution_count": 0,
      "outputs": []
    },
    {
      "cell_type": "markdown",
      "metadata": {
        "colab_type": "text",
        "id": "UmRUuqAvSPCX"
      },
      "source": [
        "### Classification report for SVC"
      ]
    },
    {
      "cell_type": "code",
      "metadata": {
        "colab_type": "code",
        "outputId": "b505cf23-e6db-4ff7-a65b-58bca8e8f5c9",
        "id": "PTl0F4h9SPCY",
        "colab": {
          "base_uri": "https://localhost:8080/",
          "height": 204
        }
      },
      "source": [
        "print(classification_report(y_test, y_svm_pred))"
      ],
      "execution_count": 0,
      "outputs": [
        {
          "output_type": "stream",
          "text": [
            "              precision    recall  f1-score   support\n",
            "\n",
            "           0       0.72      0.72      0.72       226\n",
            "           1       0.92      0.89      0.90       289\n",
            "           2       0.80      0.91      0.85       312\n",
            "           3       0.77      0.62      0.69       190\n",
            "\n",
            "    accuracy                           0.81      1017\n",
            "   macro avg       0.80      0.79      0.79      1017\n",
            "weighted avg       0.81      0.81      0.81      1017\n",
            "\n"
          ],
          "name": "stdout"
        }
      ]
    },
    {
      "cell_type": "markdown",
      "metadata": {
        "colab_type": "text",
        "id": "gIuhKlbo0vYA"
      },
      "source": [
        "### Confusion matrix for SVC"
      ]
    },
    {
      "cell_type": "code",
      "metadata": {
        "colab_type": "code",
        "outputId": "b45dab3e-f9fa-4eea-ec4e-d17c8a7b3f39",
        "id": "8DAVn6M90vYB",
        "colab": {
          "base_uri": "https://localhost:8080/",
          "height": 85
        }
      },
      "source": [
        "cf = confusion_matrix(y_test, y_svm_pred)\n",
        "cf"
      ],
      "execution_count": 0,
      "outputs": [
        {
          "output_type": "execute_result",
          "data": {
            "text/plain": [
              "array([[163,   3,  29,  31],\n",
              "       [  8, 256,  24,   1],\n",
              "       [ 11,  12, 285,   4],\n",
              "       [ 45,   7,  20, 118]])"
            ]
          },
          "metadata": {
            "tags": []
          },
          "execution_count": 205
        }
      ]
    },
    {
      "cell_type": "markdown",
      "metadata": {
        "colab_type": "text",
        "id": "gePk--5WWWhe"
      },
      "source": [
        "### Heatmap for Confusion matrix"
      ]
    },
    {
      "cell_type": "code",
      "metadata": {
        "colab_type": "code",
        "outputId": "58e6de9c-db87-4d7b-8036-2a8933b6211a",
        "id": "vgQcTeI5WWhf",
        "colab": {
          "base_uri": "https://localhost:8080/",
          "height": 286
        }
      },
      "source": [
        "sns.heatmap(cf, annot=True)"
      ],
      "execution_count": 0,
      "outputs": [
        {
          "output_type": "execute_result",
          "data": {
            "text/plain": [
              "<matplotlib.axes._subplots.AxesSubplot at 0x7fa516f87588>"
            ]
          },
          "metadata": {
            "tags": []
          },
          "execution_count": 206
        },
        {
          "output_type": "display_data",
          "data": {
            "image/png": "[encoded data removed]",
            "text/plain": [
              "<Figure size 432x288 with 2 Axes>"
            ]
          },
          "metadata": {
            "tags": []
          }
        }
      ]
    },
    {
      "cell_type": "markdown",
      "metadata": {
        "colab_type": "text",
        "id": "xaLzNnKS0vYD"
      },
      "source": [
        "### Training MultinomialNB classifier"
      ]
    },
    {
      "cell_type": "code",
      "metadata": {
        "colab_type": "code",
        "id": "MegEpIEn0vYD",
        "colab": {}
      },
      "source": [
        "mnb_classifier = MultinomialNB(alpha=0.1, fit_prior=True)"
      ],
      "execution_count": 0,
      "outputs": []
    },
    {
      "cell_type": "code",
      "metadata": {
        "colab_type": "code",
        "outputId": "7920c03f-d019-4655-bead-14f833fbdd65",
        "id": "5VRYfoBr0vYE",
        "colab": {
          "base_uri": "https://localhost:8080/",
          "height": 34
        }
      },
      "source": [
        "mnb_classifier.fit(X_train, y_train)"
      ],
      "execution_count": 0,
      "outputs": [
        {
          "output_type": "execute_result",
          "data": {
            "text/plain": [
              "MultinomialNB(alpha=0.1, class_prior=None, fit_prior=True)"
            ]
          },
          "metadata": {
            "tags": []
          },
          "execution_count": 208
        }
      ]
    },
    {
      "cell_type": "code",
      "metadata": {
        "colab_type": "code",
        "id": "WaNSoeZ40vYG",
        "colab": {}
      },
      "source": [
        "y_mnb_preds = mnb_classifier.predict(X_test)"
      ],
      "execution_count": 0,
      "outputs": []
    },
    {
      "cell_type": "markdown",
      "metadata": {
        "colab_type": "text",
        "id": "vTCHMq9oSaK1"
      },
      "source": [
        "### Classification report for MultinomialNB"
      ]
    },
    {
      "cell_type": "code",
      "metadata": {
        "colab_type": "code",
        "outputId": "548df8c9-de2c-4970-de1d-645549c7508e",
        "id": "l7RSrY8XSaK2",
        "colab": {
          "base_uri": "https://localhost:8080/",
          "height": 204
        }
      },
      "source": [
        "print(classification_report(y_test, y_mnb_preds))"
      ],
      "execution_count": 0,
      "outputs": [
        {
          "output_type": "stream",
          "text": [
            "              precision    recall  f1-score   support\n",
            "\n",
            "           0       0.72      0.80      0.76       226\n",
            "           1       0.84      0.93      0.89       289\n",
            "           2       0.91      0.88      0.89       312\n",
            "           3       0.81      0.62      0.70       190\n",
            "\n",
            "    accuracy                           0.83      1017\n",
            "   macro avg       0.82      0.81      0.81      1017\n",
            "weighted avg       0.83      0.83      0.82      1017\n",
            "\n"
          ],
          "name": "stdout"
        }
      ]
    },
    {
      "cell_type": "markdown",
      "metadata": {
        "colab_type": "text",
        "id": "pCRpCk6K0vYH"
      },
      "source": [
        "### Confusion matrix for MultinomialNB"
      ]
    },
    {
      "cell_type": "code",
      "metadata": {
        "colab_type": "code",
        "outputId": "e3106cf4-5052-429c-b217-70192f2198b7",
        "id": "kJOlteN70vYI",
        "colab": {
          "base_uri": "https://localhost:8080/",
          "height": 85
        }
      },
      "source": [
        "cf = confusion_matrix(y_test, y_mnb_preds)\n",
        "cf"
      ],
      "execution_count": 0,
      "outputs": [
        {
          "output_type": "execute_result",
          "data": {
            "text/plain": [
              "array([[181,  13,  12,  20],\n",
              "       [  4, 270,  10,   5],\n",
              "       [ 13,  24, 273,   2],\n",
              "       [ 54,  13,   6, 117]])"
            ]
          },
          "metadata": {
            "tags": []
          },
          "execution_count": 211
        }
      ]
    },
    {
      "cell_type": "markdown",
      "metadata": {
        "colab_type": "text",
        "id": "YYLVxFsMWgHW"
      },
      "source": [
        "### Heatmap for Confusion matrix"
      ]
    },
    {
      "cell_type": "code",
      "metadata": {
        "colab_type": "code",
        "outputId": "6ec928df-b838-404c-ccc3-24b4eee148f4",
        "id": "u9-lyRAPWgHX",
        "colab": {
          "base_uri": "https://localhost:8080/",
          "height": 286
        }
      },
      "source": [
        "sns.heatmap(cf, annot=True)"
      ],
      "execution_count": 0,
      "outputs": [
        {
          "output_type": "execute_result",
          "data": {
            "text/plain": [
              "<matplotlib.axes._subplots.AxesSubplot at 0x7fa51721b7b8>"
            ]
          },
          "metadata": {
            "tags": []
          },
          "execution_count": 212
        },
        {
          "output_type": "display_data",
          "data": {
            "image/png": "[encoded data removed]",
            "text/plain": [
              "<Figure size 432x288 with 2 Axes>"
            ]
          },
          "metadata": {
            "tags": []
          }
        }
      ]
    },
    {
      "cell_type": "markdown",
      "metadata": {
        "colab_type": "text",
        "id": "SeHcheG_0vYL"
      },
      "source": [
        "### Changing kernel of SVC to rbf"
      ]
    },
    {
      "cell_type": "code",
      "metadata": {
        "colab_type": "code",
        "id": "ySQ0xRLx0vYM",
        "colab": {}
      },
      "source": [
        "svm_classifier = SVC(gamma=\"auto\", kernel='rbf')"
      ],
      "execution_count": 0,
      "outputs": []
    },
    {
      "cell_type": "code",
      "metadata": {
        "colab_type": "code",
        "outputId": "dfad24cd-889a-4152-8954-fd84965ba81e",
        "id": "EY86MDwV0vYO",
        "colab": {
          "base_uri": "https://localhost:8080/",
          "height": 85
        }
      },
      "source": [
        "# Training\n",
        "svm_classifier.fit(X_train, y_train)"
      ],
      "execution_count": 0,
      "outputs": [
        {
          "output_type": "execute_result",
          "data": {
            "text/plain": [
              "SVC(C=1.0, cache_size=200, class_weight=None, coef0=0.0,\n",
              "    decision_function_shape='ovr', degree=3, gamma='auto', kernel='rbf',\n",
              "    max_iter=-1, probability=False, random_state=None, shrinking=True,\n",
              "    tol=0.001, verbose=False)"
            ]
          },
          "metadata": {
            "tags": []
          },
          "execution_count": 214
        }
      ]
    },
    {
      "cell_type": "code",
      "metadata": {
        "colab_type": "code",
        "id": "bgdqYMUc6jxx",
        "colab": {}
      },
      "source": [
        "# Predictions\n",
        "y_svm_pred = svm_classifier.predict(X_test)"
      ],
      "execution_count": 0,
      "outputs": []
    },
    {
      "cell_type": "markdown",
      "metadata": {
        "colab_type": "text",
        "id": "H93r17cx6jx0"
      },
      "source": [
        "### Confusion matrix for SVC"
      ]
    },
    {
      "cell_type": "code",
      "metadata": {
        "colab_type": "code",
        "outputId": "43600509-2baf-4d97-ccdb-b0233e7cdb8b",
        "id": "BRK722cX6jx1",
        "colab": {
          "base_uri": "https://localhost:8080/",
          "height": 85
        }
      },
      "source": [
        "cf = confusion_matrix(y_test, y_svm_pred)\n",
        "cf"
      ],
      "execution_count": 0,
      "outputs": [
        {
          "output_type": "execute_result",
          "data": {
            "text/plain": [
              "array([[  0, 226,   0,   0],\n",
              "       [  0, 289,   0,   0],\n",
              "       [  0, 312,   0,   0],\n",
              "       [  0, 190,   0,   0]])"
            ]
          },
          "metadata": {
            "tags": []
          },
          "execution_count": 216
        }
      ]
    },
    {
      "cell_type": "markdown",
      "metadata": {
        "colab_type": "text",
        "id": "YNybZxNaWk1G"
      },
      "source": [
        "### Heatmap for Confusion matrix"
      ]
    },
    {
      "cell_type": "code",
      "metadata": {
        "colab_type": "code",
        "outputId": "9e01406c-e818-4468-f8a7-522ada568a3b",
        "id": "IbVTeWeoWk1G",
        "colab": {
          "base_uri": "https://localhost:8080/",
          "height": 286
        }
      },
      "source": [
        "sns.heatmap(cf, annot=True)"
      ],
      "execution_count": 0,
      "outputs": [
        {
          "output_type": "execute_result",
          "data": {
            "text/plain": [
              "<matplotlib.axes._subplots.AxesSubplot at 0x7fa5164f8128>"
            ]
          },
          "metadata": {
            "tags": []
          },
          "execution_count": 217
        },
        {
          "output_type": "display_data",
          "data": {
            "image/png": "[encoded data removed]",
            "text/plain": [
              "<Figure size 432x288 with 2 Axes>"
            ]
          },
          "metadata": {
            "tags": []
          }
        }
      ]
    },
    {
      "cell_type": "markdown",
      "metadata": {
        "id": "xNDPRFXrWTSb",
        "colab_type": "text"
      },
      "source": [
        "### Accuracy of models on noun tokens and the whole corpus\n",
        "\n",
        "### The accuracy of a linear kernel SVM(81%) and MultinomialNB(83%) on the noun tokens is not different from that of the accuracy on the whole corpus. It is the exact same. This indicates that most of the words with pos tags other than nouns can be eliminated from the corpus so as to reduce the dimensionality of data and the predictions will not get affected. It also reiterates the fact that nouns are a very important and distinguishing factor in text for classification.\n",
        "\n",
        "### And, linear SVM classifier has way better accuracy than the rbf SVM classifier due to the same reasons listed above ((A) on the whole corpus). MultinomialNB performs better than the SVM classifier in general because as stated earlier, it tends to work better on sparse data well."
      ]
    },
    {
      "cell_type": "code",
      "metadata": {
        "id": "iRMDXNoFX2rs",
        "colab_type": "code",
        "outputId": "4d2341f6-cdbf-45bc-feb8-b2b6de3136b7",
        "colab": {
          "base_uri": "https://localhost:8080/",
          "height": 51
        }
      },
      "source": [
        "# size of vocabulary\n",
        "print(f\"Vocab with noun tokens: {len(count_vectorizer_nn.get_feature_names())}\")\n",
        "print(f\"Vocab with all tokens: {len(count_vectorizer.get_feature_names())}\")"
      ],
      "execution_count": 0,
      "outputs": [
        {
          "output_type": "stream",
          "text": [
            "Vocab with noun tokens: 18763\n",
            "Vocab with all tokens: 24016\n"
          ],
          "name": "stdout"
        }
      ]
    },
    {
      "cell_type": "markdown",
      "metadata": {
        "id": "b6IupwuXYupC",
        "colab_type": "text"
      },
      "source": [
        "### Size of vocabulary\n",
        "\n",
        "### The size of the vocabulary, as stated earlier, is lesser compared to the previous step where the whole corpus was used. This step greatly reduces the input features a.k.a dimensions of data. "
      ]
    }
  ]
}